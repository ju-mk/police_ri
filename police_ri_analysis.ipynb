{
  "nbformat": 4,
  "nbformat_minor": 0,
  "metadata": {
    "colab": {
      "provenance": [],
      "authorship_tag": "ABX9TyO8ypTxYhO9Ttyym8LO82/F",
      "include_colab_link": true
    },
    "kernelspec": {
      "name": "python3",
      "display_name": "Python 3"
    },
    "language_info": {
      "name": "python"
    }
  },
  "cells": [
    {
      "cell_type": "markdown",
      "metadata": {
        "id": "view-in-github",
        "colab_type": "text"
      },
      "source": [
        "<a href=\"https://colab.research.google.com/github/ju-mk/police_ri/blob/main/police_ri_analysis.ipynb\" target=\"_parent\"><img src=\"https://colab.research.google.com/assets/colab-badge.svg\" alt=\"Open In Colab\"/></a>"
      ]
    },
    {
      "cell_type": "markdown",
      "source": [
        "The dataset = Traffic stops by police officers at openpolicing.stanford.edu\n",
        "\n",
        "\n",
        "\n"
      ],
      "metadata": {
        "id": "j5lu1_JlhUIw"
      }
    },
    {
      "cell_type": "markdown",
      "source": [
        "PREPARING THE DATA FOR ANALYSIS  \n",
        "  \n",
        "Introduction to the dataset"
      ],
      "metadata": {
        "id": "WMFgU0yckZVm"
      }
    },
    {
      "cell_type": "code",
      "execution_count": 1,
      "metadata": {
        "id": "GyIBOQeog4hw",
        "outputId": "665a4608-a9b5-4fad-9be4-5a963621791c",
        "colab": {
          "base_uri": "https://localhost:8080/",
          "height": 325
        }
      },
      "outputs": [
        {
          "output_type": "stream",
          "name": "stderr",
          "text": [
            "/usr/local/lib/python3.8/dist-packages/IPython/core/interactiveshell.py:3326: DtypeWarning: Columns (6,17,30) have mixed types.Specify dtype option on import or set low_memory=False.\n",
            "  exec(code_obj, self.user_global_ns, self.user_ns)\n"
          ]
        },
        {
          "output_type": "execute_result",
          "data": {
            "text/plain": [
              "   raw_row_number        date      time zone subject_race subject_sex  \\\n",
              "0               1  2005-11-22  11:15:00   X3        white        male   \n",
              "1               2  2005-10-01  12:20:00   X3        white        male   \n",
              "2               3  2005-10-01  12:30:00   X3        white      female   \n",
              "\n",
              "  department_id       type arrest_made citation_issued  ... reason_for_stop  \\\n",
              "0           200  vehicular       False            True  ...        Speeding   \n",
              "1           200  vehicular       False            True  ...        Speeding   \n",
              "2           200  vehicular       False            True  ...        Speeding   \n",
              "\n",
              "  vehicle_make vehicle_model raw_BasisForStop raw_OperatorRace  \\\n",
              "0          NaN           NaN               SP                W   \n",
              "1          NaN           NaN               SP                W   \n",
              "2          NaN           NaN               SP                W   \n",
              "\n",
              "  raw_OperatorSex raw_ResultOfStop raw_SearchResultOne  raw_SearchResultTwo  \\\n",
              "0               M                M                 NaN                  NaN   \n",
              "1               M                M                 NaN                  NaN   \n",
              "2               F                M                 NaN                  NaN   \n",
              "\n",
              "  raw_SearchResultThree  \n",
              "0                   NaN  \n",
              "1                   NaN  \n",
              "2                   NaN  \n",
              "\n",
              "[3 rows x 31 columns]"
            ],
            "text/html": [
              "\n",
              "  <div id=\"df-89abe6b3-f404-4497-b23e-a7b5de96c984\">\n",
              "    <div class=\"colab-df-container\">\n",
              "      <div>\n",
              "<style scoped>\n",
              "    .dataframe tbody tr th:only-of-type {\n",
              "        vertical-align: middle;\n",
              "    }\n",
              "\n",
              "    .dataframe tbody tr th {\n",
              "        vertical-align: top;\n",
              "    }\n",
              "\n",
              "    .dataframe thead th {\n",
              "        text-align: right;\n",
              "    }\n",
              "</style>\n",
              "<table border=\"1\" class=\"dataframe\">\n",
              "  <thead>\n",
              "    <tr style=\"text-align: right;\">\n",
              "      <th></th>\n",
              "      <th>raw_row_number</th>\n",
              "      <th>date</th>\n",
              "      <th>time</th>\n",
              "      <th>zone</th>\n",
              "      <th>subject_race</th>\n",
              "      <th>subject_sex</th>\n",
              "      <th>department_id</th>\n",
              "      <th>type</th>\n",
              "      <th>arrest_made</th>\n",
              "      <th>citation_issued</th>\n",
              "      <th>...</th>\n",
              "      <th>reason_for_stop</th>\n",
              "      <th>vehicle_make</th>\n",
              "      <th>vehicle_model</th>\n",
              "      <th>raw_BasisForStop</th>\n",
              "      <th>raw_OperatorRace</th>\n",
              "      <th>raw_OperatorSex</th>\n",
              "      <th>raw_ResultOfStop</th>\n",
              "      <th>raw_SearchResultOne</th>\n",
              "      <th>raw_SearchResultTwo</th>\n",
              "      <th>raw_SearchResultThree</th>\n",
              "    </tr>\n",
              "  </thead>\n",
              "  <tbody>\n",
              "    <tr>\n",
              "      <th>0</th>\n",
              "      <td>1</td>\n",
              "      <td>2005-11-22</td>\n",
              "      <td>11:15:00</td>\n",
              "      <td>X3</td>\n",
              "      <td>white</td>\n",
              "      <td>male</td>\n",
              "      <td>200</td>\n",
              "      <td>vehicular</td>\n",
              "      <td>False</td>\n",
              "      <td>True</td>\n",
              "      <td>...</td>\n",
              "      <td>Speeding</td>\n",
              "      <td>NaN</td>\n",
              "      <td>NaN</td>\n",
              "      <td>SP</td>\n",
              "      <td>W</td>\n",
              "      <td>M</td>\n",
              "      <td>M</td>\n",
              "      <td>NaN</td>\n",
              "      <td>NaN</td>\n",
              "      <td>NaN</td>\n",
              "    </tr>\n",
              "    <tr>\n",
              "      <th>1</th>\n",
              "      <td>2</td>\n",
              "      <td>2005-10-01</td>\n",
              "      <td>12:20:00</td>\n",
              "      <td>X3</td>\n",
              "      <td>white</td>\n",
              "      <td>male</td>\n",
              "      <td>200</td>\n",
              "      <td>vehicular</td>\n",
              "      <td>False</td>\n",
              "      <td>True</td>\n",
              "      <td>...</td>\n",
              "      <td>Speeding</td>\n",
              "      <td>NaN</td>\n",
              "      <td>NaN</td>\n",
              "      <td>SP</td>\n",
              "      <td>W</td>\n",
              "      <td>M</td>\n",
              "      <td>M</td>\n",
              "      <td>NaN</td>\n",
              "      <td>NaN</td>\n",
              "      <td>NaN</td>\n",
              "    </tr>\n",
              "    <tr>\n",
              "      <th>2</th>\n",
              "      <td>3</td>\n",
              "      <td>2005-10-01</td>\n",
              "      <td>12:30:00</td>\n",
              "      <td>X3</td>\n",
              "      <td>white</td>\n",
              "      <td>female</td>\n",
              "      <td>200</td>\n",
              "      <td>vehicular</td>\n",
              "      <td>False</td>\n",
              "      <td>True</td>\n",
              "      <td>...</td>\n",
              "      <td>Speeding</td>\n",
              "      <td>NaN</td>\n",
              "      <td>NaN</td>\n",
              "      <td>SP</td>\n",
              "      <td>W</td>\n",
              "      <td>F</td>\n",
              "      <td>M</td>\n",
              "      <td>NaN</td>\n",
              "      <td>NaN</td>\n",
              "      <td>NaN</td>\n",
              "    </tr>\n",
              "  </tbody>\n",
              "</table>\n",
              "<p>3 rows × 31 columns</p>\n",
              "</div>\n",
              "      <button class=\"colab-df-convert\" onclick=\"convertToInteractive('df-89abe6b3-f404-4497-b23e-a7b5de96c984')\"\n",
              "              title=\"Convert this dataframe to an interactive table.\"\n",
              "              style=\"display:none;\">\n",
              "        \n",
              "  <svg xmlns=\"http://www.w3.org/2000/svg\" height=\"24px\"viewBox=\"0 0 24 24\"\n",
              "       width=\"24px\">\n",
              "    <path d=\"M0 0h24v24H0V0z\" fill=\"none\"/>\n",
              "    <path d=\"M18.56 5.44l.94 2.06.94-2.06 2.06-.94-2.06-.94-.94-2.06-.94 2.06-2.06.94zm-11 1L8.5 8.5l.94-2.06 2.06-.94-2.06-.94L8.5 2.5l-.94 2.06-2.06.94zm10 10l.94 2.06.94-2.06 2.06-.94-2.06-.94-.94-2.06-.94 2.06-2.06.94z\"/><path d=\"M17.41 7.96l-1.37-1.37c-.4-.4-.92-.59-1.43-.59-.52 0-1.04.2-1.43.59L10.3 9.45l-7.72 7.72c-.78.78-.78 2.05 0 2.83L4 21.41c.39.39.9.59 1.41.59.51 0 1.02-.2 1.41-.59l7.78-7.78 2.81-2.81c.8-.78.8-2.07 0-2.86zM5.41 20L4 18.59l7.72-7.72 1.47 1.35L5.41 20z\"/>\n",
              "  </svg>\n",
              "      </button>\n",
              "      \n",
              "  <style>\n",
              "    .colab-df-container {\n",
              "      display:flex;\n",
              "      flex-wrap:wrap;\n",
              "      gap: 12px;\n",
              "    }\n",
              "\n",
              "    .colab-df-convert {\n",
              "      background-color: #E8F0FE;\n",
              "      border: none;\n",
              "      border-radius: 50%;\n",
              "      cursor: pointer;\n",
              "      display: none;\n",
              "      fill: #1967D2;\n",
              "      height: 32px;\n",
              "      padding: 0 0 0 0;\n",
              "      width: 32px;\n",
              "    }\n",
              "\n",
              "    .colab-df-convert:hover {\n",
              "      background-color: #E2EBFA;\n",
              "      box-shadow: 0px 1px 2px rgba(60, 64, 67, 0.3), 0px 1px 3px 1px rgba(60, 64, 67, 0.15);\n",
              "      fill: #174EA6;\n",
              "    }\n",
              "\n",
              "    [theme=dark] .colab-df-convert {\n",
              "      background-color: #3B4455;\n",
              "      fill: #D2E3FC;\n",
              "    }\n",
              "\n",
              "    [theme=dark] .colab-df-convert:hover {\n",
              "      background-color: #434B5C;\n",
              "      box-shadow: 0px 1px 3px 1px rgba(0, 0, 0, 0.15);\n",
              "      filter: drop-shadow(0px 1px 2px rgba(0, 0, 0, 0.3));\n",
              "      fill: #FFFFFF;\n",
              "    }\n",
              "  </style>\n",
              "\n",
              "      <script>\n",
              "        const buttonEl =\n",
              "          document.querySelector('#df-89abe6b3-f404-4497-b23e-a7b5de96c984 button.colab-df-convert');\n",
              "        buttonEl.style.display =\n",
              "          google.colab.kernel.accessAllowed ? 'block' : 'none';\n",
              "\n",
              "        async function convertToInteractive(key) {\n",
              "          const element = document.querySelector('#df-89abe6b3-f404-4497-b23e-a7b5de96c984');\n",
              "          const dataTable =\n",
              "            await google.colab.kernel.invokeFunction('convertToInteractive',\n",
              "                                                     [key], {});\n",
              "          if (!dataTable) return;\n",
              "\n",
              "          const docLinkHtml = 'Like what you see? Visit the ' +\n",
              "            '<a target=\"_blank\" href=https://colab.research.google.com/notebooks/data_table.ipynb>data table notebook</a>'\n",
              "            + ' to learn more about interactive tables.';\n",
              "          element.innerHTML = '';\n",
              "          dataTable['output_type'] = 'display_data';\n",
              "          await google.colab.output.renderOutput(dataTable, element);\n",
              "          const docLink = document.createElement('div');\n",
              "          docLink.innerHTML = docLinkHtml;\n",
              "          element.appendChild(docLink);\n",
              "        }\n",
              "      </script>\n",
              "    </div>\n",
              "  </div>\n",
              "  "
            ]
          },
          "metadata": {},
          "execution_count": 1
        }
      ],
      "source": [
        "#1 Loading the data\n",
        "\n",
        "import pandas as pd\n",
        "ri = pd.read_csv(\"https://github.com/ju-mk/police_ri/releases/download/csv/ri_statewide_2020_04_01.csv\") #the csv file was bigger than 25mb, so had to create a release on github\n",
        "\n",
        "#2 Examining the data\n",
        "ri.head(3)"
      ]
    },
    {
      "cell_type": "code",
      "source": [
        "weather=pd.read_csv(\"https://assets.datacamp.com/production/repositories/1497/datasets/02f3fb2d4416d3f6626e1117688e0386784e8e55/weather.csv\")\n",
        "ri2=pd.read_csv(\"https://assets.datacamp.com/production/repositories/1497/datasets/62bd9feef451860db02d26553613a299721882e8/police.csv\")\n",
        "\n",
        "ri2.head()"
      ],
      "metadata": {
        "colab": {
          "base_uri": "https://localhost:8080/",
          "height": 288
        },
        "id": "PB1tuRK8WueG",
        "outputId": "bd68325e-2b70-48b5-8acb-ea35fe304600"
      },
      "execution_count": 2,
      "outputs": [
        {
          "output_type": "execute_result",
          "data": {
            "text/plain": [
              "  state   stop_date stop_time  county_name driver_gender driver_race  \\\n",
              "0    RI  2005-01-04     12:55          NaN             M       White   \n",
              "1    RI  2005-01-23     23:15          NaN             M       White   \n",
              "2    RI  2005-02-17     04:15          NaN             M       White   \n",
              "3    RI  2005-02-20     17:15          NaN             M       White   \n",
              "4    RI  2005-02-24     01:20          NaN             F       White   \n",
              "\n",
              "                    violation_raw  violation  search_conducted search_type  \\\n",
              "0  Equipment/Inspection Violation  Equipment             False         NaN   \n",
              "1                        Speeding   Speeding             False         NaN   \n",
              "2                        Speeding   Speeding             False         NaN   \n",
              "3                Call for Service      Other             False         NaN   \n",
              "4                        Speeding   Speeding             False         NaN   \n",
              "\n",
              "    stop_outcome is_arrested stop_duration  drugs_related_stop district  \n",
              "0       Citation       False      0-15 Min               False  Zone X4  \n",
              "1       Citation       False      0-15 Min               False  Zone K3  \n",
              "2       Citation       False      0-15 Min               False  Zone X4  \n",
              "3  Arrest Driver        True     16-30 Min               False  Zone X1  \n",
              "4       Citation       False      0-15 Min               False  Zone X3  "
            ],
            "text/html": [
              "\n",
              "  <div id=\"df-fee98338-d241-4761-bde3-3a1cb4fc50a5\">\n",
              "    <div class=\"colab-df-container\">\n",
              "      <div>\n",
              "<style scoped>\n",
              "    .dataframe tbody tr th:only-of-type {\n",
              "        vertical-align: middle;\n",
              "    }\n",
              "\n",
              "    .dataframe tbody tr th {\n",
              "        vertical-align: top;\n",
              "    }\n",
              "\n",
              "    .dataframe thead th {\n",
              "        text-align: right;\n",
              "    }\n",
              "</style>\n",
              "<table border=\"1\" class=\"dataframe\">\n",
              "  <thead>\n",
              "    <tr style=\"text-align: right;\">\n",
              "      <th></th>\n",
              "      <th>state</th>\n",
              "      <th>stop_date</th>\n",
              "      <th>stop_time</th>\n",
              "      <th>county_name</th>\n",
              "      <th>driver_gender</th>\n",
              "      <th>driver_race</th>\n",
              "      <th>violation_raw</th>\n",
              "      <th>violation</th>\n",
              "      <th>search_conducted</th>\n",
              "      <th>search_type</th>\n",
              "      <th>stop_outcome</th>\n",
              "      <th>is_arrested</th>\n",
              "      <th>stop_duration</th>\n",
              "      <th>drugs_related_stop</th>\n",
              "      <th>district</th>\n",
              "    </tr>\n",
              "  </thead>\n",
              "  <tbody>\n",
              "    <tr>\n",
              "      <th>0</th>\n",
              "      <td>RI</td>\n",
              "      <td>2005-01-04</td>\n",
              "      <td>12:55</td>\n",
              "      <td>NaN</td>\n",
              "      <td>M</td>\n",
              "      <td>White</td>\n",
              "      <td>Equipment/Inspection Violation</td>\n",
              "      <td>Equipment</td>\n",
              "      <td>False</td>\n",
              "      <td>NaN</td>\n",
              "      <td>Citation</td>\n",
              "      <td>False</td>\n",
              "      <td>0-15 Min</td>\n",
              "      <td>False</td>\n",
              "      <td>Zone X4</td>\n",
              "    </tr>\n",
              "    <tr>\n",
              "      <th>1</th>\n",
              "      <td>RI</td>\n",
              "      <td>2005-01-23</td>\n",
              "      <td>23:15</td>\n",
              "      <td>NaN</td>\n",
              "      <td>M</td>\n",
              "      <td>White</td>\n",
              "      <td>Speeding</td>\n",
              "      <td>Speeding</td>\n",
              "      <td>False</td>\n",
              "      <td>NaN</td>\n",
              "      <td>Citation</td>\n",
              "      <td>False</td>\n",
              "      <td>0-15 Min</td>\n",
              "      <td>False</td>\n",
              "      <td>Zone K3</td>\n",
              "    </tr>\n",
              "    <tr>\n",
              "      <th>2</th>\n",
              "      <td>RI</td>\n",
              "      <td>2005-02-17</td>\n",
              "      <td>04:15</td>\n",
              "      <td>NaN</td>\n",
              "      <td>M</td>\n",
              "      <td>White</td>\n",
              "      <td>Speeding</td>\n",
              "      <td>Speeding</td>\n",
              "      <td>False</td>\n",
              "      <td>NaN</td>\n",
              "      <td>Citation</td>\n",
              "      <td>False</td>\n",
              "      <td>0-15 Min</td>\n",
              "      <td>False</td>\n",
              "      <td>Zone X4</td>\n",
              "    </tr>\n",
              "    <tr>\n",
              "      <th>3</th>\n",
              "      <td>RI</td>\n",
              "      <td>2005-02-20</td>\n",
              "      <td>17:15</td>\n",
              "      <td>NaN</td>\n",
              "      <td>M</td>\n",
              "      <td>White</td>\n",
              "      <td>Call for Service</td>\n",
              "      <td>Other</td>\n",
              "      <td>False</td>\n",
              "      <td>NaN</td>\n",
              "      <td>Arrest Driver</td>\n",
              "      <td>True</td>\n",
              "      <td>16-30 Min</td>\n",
              "      <td>False</td>\n",
              "      <td>Zone X1</td>\n",
              "    </tr>\n",
              "    <tr>\n",
              "      <th>4</th>\n",
              "      <td>RI</td>\n",
              "      <td>2005-02-24</td>\n",
              "      <td>01:20</td>\n",
              "      <td>NaN</td>\n",
              "      <td>F</td>\n",
              "      <td>White</td>\n",
              "      <td>Speeding</td>\n",
              "      <td>Speeding</td>\n",
              "      <td>False</td>\n",
              "      <td>NaN</td>\n",
              "      <td>Citation</td>\n",
              "      <td>False</td>\n",
              "      <td>0-15 Min</td>\n",
              "      <td>False</td>\n",
              "      <td>Zone X3</td>\n",
              "    </tr>\n",
              "  </tbody>\n",
              "</table>\n",
              "</div>\n",
              "      <button class=\"colab-df-convert\" onclick=\"convertToInteractive('df-fee98338-d241-4761-bde3-3a1cb4fc50a5')\"\n",
              "              title=\"Convert this dataframe to an interactive table.\"\n",
              "              style=\"display:none;\">\n",
              "        \n",
              "  <svg xmlns=\"http://www.w3.org/2000/svg\" height=\"24px\"viewBox=\"0 0 24 24\"\n",
              "       width=\"24px\">\n",
              "    <path d=\"M0 0h24v24H0V0z\" fill=\"none\"/>\n",
              "    <path d=\"M18.56 5.44l.94 2.06.94-2.06 2.06-.94-2.06-.94-.94-2.06-.94 2.06-2.06.94zm-11 1L8.5 8.5l.94-2.06 2.06-.94-2.06-.94L8.5 2.5l-.94 2.06-2.06.94zm10 10l.94 2.06.94-2.06 2.06-.94-2.06-.94-.94-2.06-.94 2.06-2.06.94z\"/><path d=\"M17.41 7.96l-1.37-1.37c-.4-.4-.92-.59-1.43-.59-.52 0-1.04.2-1.43.59L10.3 9.45l-7.72 7.72c-.78.78-.78 2.05 0 2.83L4 21.41c.39.39.9.59 1.41.59.51 0 1.02-.2 1.41-.59l7.78-7.78 2.81-2.81c.8-.78.8-2.07 0-2.86zM5.41 20L4 18.59l7.72-7.72 1.47 1.35L5.41 20z\"/>\n",
              "  </svg>\n",
              "      </button>\n",
              "      \n",
              "  <style>\n",
              "    .colab-df-container {\n",
              "      display:flex;\n",
              "      flex-wrap:wrap;\n",
              "      gap: 12px;\n",
              "    }\n",
              "\n",
              "    .colab-df-convert {\n",
              "      background-color: #E8F0FE;\n",
              "      border: none;\n",
              "      border-radius: 50%;\n",
              "      cursor: pointer;\n",
              "      display: none;\n",
              "      fill: #1967D2;\n",
              "      height: 32px;\n",
              "      padding: 0 0 0 0;\n",
              "      width: 32px;\n",
              "    }\n",
              "\n",
              "    .colab-df-convert:hover {\n",
              "      background-color: #E2EBFA;\n",
              "      box-shadow: 0px 1px 2px rgba(60, 64, 67, 0.3), 0px 1px 3px 1px rgba(60, 64, 67, 0.15);\n",
              "      fill: #174EA6;\n",
              "    }\n",
              "\n",
              "    [theme=dark] .colab-df-convert {\n",
              "      background-color: #3B4455;\n",
              "      fill: #D2E3FC;\n",
              "    }\n",
              "\n",
              "    [theme=dark] .colab-df-convert:hover {\n",
              "      background-color: #434B5C;\n",
              "      box-shadow: 0px 1px 3px 1px rgba(0, 0, 0, 0.15);\n",
              "      filter: drop-shadow(0px 1px 2px rgba(0, 0, 0, 0.3));\n",
              "      fill: #FFFFFF;\n",
              "    }\n",
              "  </style>\n",
              "\n",
              "      <script>\n",
              "        const buttonEl =\n",
              "          document.querySelector('#df-fee98338-d241-4761-bde3-3a1cb4fc50a5 button.colab-df-convert');\n",
              "        buttonEl.style.display =\n",
              "          google.colab.kernel.accessAllowed ? 'block' : 'none';\n",
              "\n",
              "        async function convertToInteractive(key) {\n",
              "          const element = document.querySelector('#df-fee98338-d241-4761-bde3-3a1cb4fc50a5');\n",
              "          const dataTable =\n",
              "            await google.colab.kernel.invokeFunction('convertToInteractive',\n",
              "                                                     [key], {});\n",
              "          if (!dataTable) return;\n",
              "\n",
              "          const docLinkHtml = 'Like what you see? Visit the ' +\n",
              "            '<a target=\"_blank\" href=https://colab.research.google.com/notebooks/data_table.ipynb>data table notebook</a>'\n",
              "            + ' to learn more about interactive tables.';\n",
              "          element.innerHTML = '';\n",
              "          dataTable['output_type'] = 'display_data';\n",
              "          await google.colab.output.renderOutput(dataTable, element);\n",
              "          const docLink = document.createElement('div');\n",
              "          docLink.innerHTML = docLinkHtml;\n",
              "          element.appendChild(docLink);\n",
              "        }\n",
              "      </script>\n",
              "    </div>\n",
              "  </div>\n",
              "  "
            ]
          },
          "metadata": {},
          "execution_count": 2
        }
      ]
    },
    {
      "cell_type": "code",
      "source": [
        "#3 Locating missing values\n",
        "ri2.isnull().head(3) #get the dt with True and False for each individual value\n",
        "print(ri2.isnull().sum()) #get the amount of missing values #compare it to ri.shape to see if all col values are null\n",
        "print(ri2.shape)"
      ],
      "metadata": {
        "id": "Bdrwc9sCmpQU",
        "outputId": "f7ae98d1-3227-4c36-ddb2-fd66468079e1",
        "colab": {
          "base_uri": "https://localhost:8080/"
        }
      },
      "execution_count": 3,
      "outputs": [
        {
          "output_type": "stream",
          "name": "stdout",
          "text": [
            "state                     0\n",
            "stop_date                 0\n",
            "stop_time                 0\n",
            "county_name           91741\n",
            "driver_gender          5205\n",
            "driver_race            5202\n",
            "violation_raw          5202\n",
            "violation              5202\n",
            "search_conducted          0\n",
            "search_type           88434\n",
            "stop_outcome           5202\n",
            "is_arrested            5202\n",
            "stop_duration          5202\n",
            "drugs_related_stop        0\n",
            "district                  0\n",
            "dtype: int64\n",
            "(91741, 15)\n"
          ]
        }
      ]
    },
    {
      "cell_type": "code",
      "source": [
        "#4 Dropping a col (useful if a whole col is null)\n",
        "ri2.drop('county_name', axis = 'columns', inplace = True)\n",
        "#to do that to more than one col, use brackets eg (['county_name, 'violation'], axis = 'columns', inplace=True)\n",
        "ri2.shape"
      ],
      "metadata": {
        "id": "JAvKe94Bm3E-",
        "outputId": "c7e29a4d-2a0d-47ca-d8b6-fb62f7832571",
        "colab": {
          "base_uri": "https://localhost:8080/"
        }
      },
      "execution_count": 4,
      "outputs": [
        {
          "output_type": "execute_result",
          "data": {
            "text/plain": [
              "(91741, 14)"
            ]
          },
          "metadata": {},
          "execution_count": 4
        }
      ]
    },
    {
      "cell_type": "code",
      "source": [
        "#5 Dropping rows (useful if a row has null values for the col you're analysing)\n",
        "#ri2.dropna(subset=['date', 'outcome'], inplace = True)\n",
        "#ri2.shape"
      ],
      "metadata": {
        "id": "y5y6GHkknUVT"
      },
      "execution_count": 5,
      "outputs": []
    },
    {
      "cell_type": "markdown",
      "source": [
        "Using data types"
      ],
      "metadata": {
        "id": "b9YZzsmutjyu"
      }
    },
    {
      "cell_type": "code",
      "source": [
        "#6 Examining the data types\n",
        "ri2.dtypes\n",
        "\n",
        "\n",
        "#Object or ‘0’ : python strings (or other Python objects)\n",
        "#bool: True and False values – enables logical and mathematical operations\n",
        "#int, float – enables mathematical operations\n",
        "#datetime – enables date-based attributes and methods\n",
        "#category – uses less memory and runs faster\n"
      ],
      "metadata": {
        "id": "OZ3kDIRqpAaf",
        "outputId": "c00b7572-34bb-45f1-c86c-0c215d132648",
        "colab": {
          "base_uri": "https://localhost:8080/"
        }
      },
      "execution_count": 6,
      "outputs": [
        {
          "output_type": "execute_result",
          "data": {
            "text/plain": [
              "state                 object\n",
              "stop_date             object\n",
              "stop_time             object\n",
              "driver_gender         object\n",
              "driver_race           object\n",
              "violation_raw         object\n",
              "violation             object\n",
              "search_conducted        bool\n",
              "search_type           object\n",
              "stop_outcome          object\n",
              "is_arrested           object\n",
              "stop_duration         object\n",
              "drugs_related_stop      bool\n",
              "district              object\n",
              "dtype: object"
            ]
          },
          "metadata": {},
          "execution_count": 6
        }
      ]
    },
    {
      "cell_type": "code",
      "source": [
        "#7 Fixing a data type\n",
        "\n",
        "#Check the type first\n",
        "ri2.driver_gender.dtype\n",
        "#OR\n",
        "ri2['driver_gender'].dtype\n",
        "\n",
        "\n",
        "#Then change it using .astype()\n",
        "ri2['driver_gender'] = ri2.driver_gender.astype('category') #before the equals sign, you cannot use the dot notation (apple.price), only the bracket notation (apple[‘price’])\n",
        "\n",
        "ri2.driver_gender.dtype"
      ],
      "metadata": {
        "id": "ESojdTsfpQN5",
        "outputId": "6b32c4db-447d-45fc-bcae-0c6db61112e2",
        "colab": {
          "base_uri": "https://localhost:8080/"
        }
      },
      "execution_count": 7,
      "outputs": [
        {
          "output_type": "execute_result",
          "data": {
            "text/plain": [
              "CategoricalDtype(categories=['F', 'M'], ordered=False)"
            ]
          },
          "metadata": {},
          "execution_count": 7
        }
      ]
    },
    {
      "cell_type": "markdown",
      "source": [
        "Creating a datetimeIndex"
      ],
      "metadata": {
        "id": "Tet4g8-1tdz0"
      }
    },
    {
      "cell_type": "code",
      "source": [
        "#8 Combining object columns (cols date and time are stored in separate cols)\n",
        "\n",
        "#Change the data to how it should look like\n",
        "#string methods are available through the str acessor\n",
        "#e.g. apple has date column in format 2/13/18, but we need to change it to 2-13-18 using apple.date.str.replace('/', '-')\n",
        "\n",
        "#now, combine the cols using str.cat() (concatenate method)\n",
        "combined = ri2.stop_date.str.cat(ri2.stop_time, sep =' ')\n",
        "\n",
        "combined.head() #dtype is still object\n"
      ],
      "metadata": {
        "id": "RPokWeziqsLJ",
        "outputId": "df8d6ddd-a7a1-48a0-ef98-cfa2a1dd365d",
        "colab": {
          "base_uri": "https://localhost:8080/"
        }
      },
      "execution_count": 8,
      "outputs": [
        {
          "output_type": "execute_result",
          "data": {
            "text/plain": [
              "0    2005-01-04 12:55\n",
              "1    2005-01-23 23:15\n",
              "2    2005-02-17 04:15\n",
              "3    2005-02-20 17:15\n",
              "4    2005-02-24 01:20\n",
              "Name: stop_date, dtype: object"
            ]
          },
          "metadata": {},
          "execution_count": 8
        }
      ]
    },
    {
      "cell_type": "code",
      "source": [
        "#9 Converting to a datetime format = using the .to_datetime() function and saving it into a new col\n",
        "ri2['date_time'] = pd.to_datetime(combined) #you don't even need to specify that the original data was in m-d-y format, pandas just figures it out.\n",
        "ri2.date_time.head()"
      ],
      "metadata": {
        "id": "mxZRGKe3ueY7",
        "outputId": "4ff1e385-7efc-4122-ac52-f2daef867bfe",
        "colab": {
          "base_uri": "https://localhost:8080/"
        }
      },
      "execution_count": 9,
      "outputs": [
        {
          "output_type": "execute_result",
          "data": {
            "text/plain": [
              "0   2005-01-04 12:55:00\n",
              "1   2005-01-23 23:15:00\n",
              "2   2005-02-17 04:15:00\n",
              "3   2005-02-20 17:15:00\n",
              "4   2005-02-24 01:20:00\n",
              "Name: date_time, dtype: datetime64[ns]"
            ]
          },
          "metadata": {},
          "execution_count": 9
        }
      ]
    },
    {
      "cell_type": "code",
      "source": [
        "#10 Setting it as the index using the set_index() method (it makes it easier to filter the df by date, plot the data by date, etc)\n",
        "ri2.set_index('date_time', inplace=True) #>>>the operation should occur in place to avoid an assignment statement\n"
      ],
      "metadata": {
        "id": "fn8UdvOfvHm-"
      },
      "execution_count": 10,
      "outputs": []
    },
    {
      "cell_type": "code",
      "source": [
        "#Now, the default index has been replaced with the datetime column\n",
        "#Now, if you call for ri2.index it shows DateTimeIndex([…]) * If an existing column becomes the index, it is no longer considered to be one of the dataframe columns\n",
        "ri2.index\n"
      ],
      "metadata": {
        "id": "_DotEVwIvtpP",
        "outputId": "e6bacfe7-91fd-4c78-ef96-0cd4f244885a",
        "colab": {
          "base_uri": "https://localhost:8080/"
        }
      },
      "execution_count": 11,
      "outputs": [
        {
          "output_type": "execute_result",
          "data": {
            "text/plain": [
              "DatetimeIndex(['2005-01-04 12:55:00', '2005-01-23 23:15:00',\n",
              "               '2005-02-17 04:15:00', '2005-02-20 17:15:00',\n",
              "               '2005-02-24 01:20:00', '2005-03-14 10:00:00',\n",
              "               '2005-03-29 21:55:00', '2005-04-04 21:25:00',\n",
              "               '2005-07-14 11:20:00', '2005-07-14 19:55:00',\n",
              "               ...\n",
              "               '2015-12-31 13:23:00', '2015-12-31 18:59:00',\n",
              "               '2015-12-31 19:13:00', '2015-12-31 20:20:00',\n",
              "               '2015-12-31 20:50:00', '2015-12-31 21:21:00',\n",
              "               '2015-12-31 21:59:00', '2015-12-31 22:04:00',\n",
              "               '2015-12-31 22:09:00', '2015-12-31 22:47:00'],\n",
              "              dtype='datetime64[ns]', name='date_time', length=91741, freq=None)"
            ]
          },
          "metadata": {},
          "execution_count": 11
        }
      ]
    },
    {
      "cell_type": "markdown",
      "source": [
        "EXPLORING THE RELATIONSHIP BETWEEN GENDER AND POLICING\n",
        "  \n",
        "Do the genders commit different violations?"
      ],
      "metadata": {
        "id": "0keIPTprwHR-"
      }
    },
    {
      "cell_type": "code",
      "source": [
        "#value_counts() counts the unique values in a series; best suited for categorical data rather than numerical\n",
        "ri2.stop_outcome.value_counts()\n"
      ],
      "metadata": {
        "id": "IFDEkrHewTYz",
        "outputId": "a655f425-85d1-42aa-ffda-e88b320fe79d",
        "colab": {
          "base_uri": "https://localhost:8080/"
        }
      },
      "execution_count": 12,
      "outputs": [
        {
          "output_type": "execute_result",
          "data": {
            "text/plain": [
              "Citation            77092\n",
              "Warning              5137\n",
              "Arrest Driver        2735\n",
              "No Action             625\n",
              "N/D                   607\n",
              "Arrest Passenger      343\n",
              "Name: stop_outcome, dtype: int64"
            ]
          },
          "metadata": {},
          "execution_count": 12
        }
      ]
    },
    {
      "cell_type": "code",
      "source": [
        "print(ri2.stop_outcome.value_counts().sum()) \n",
        "#it will get the sum of this series, should be actually equal to the number of rows sseen by ri.shape, if there are no missing values\n",
        "print(ri2.shape)"
      ],
      "metadata": {
        "id": "VPORRHU-wqea",
        "colab": {
          "base_uri": "https://localhost:8080/"
        },
        "outputId": "47e56d91-b7e4-4f53-b82e-755627010028"
      },
      "execution_count": 13,
      "outputs": [
        {
          "output_type": "stream",
          "name": "stdout",
          "text": [
            "86539\n",
            "(91741, 14)\n"
          ]
        }
      ]
    },
    {
      "cell_type": "code",
      "source": [
        "ri2.stop_outcome.value_counts(normalize=True)\n",
        "#it will output the proportions instead of counts"
      ],
      "metadata": {
        "colab": {
          "base_uri": "https://localhost:8080/"
        },
        "id": "44_3p44YXymK",
        "outputId": "554e230c-36ae-466a-d893-860ba62d075b"
      },
      "execution_count": 14,
      "outputs": [
        {
          "output_type": "execute_result",
          "data": {
            "text/plain": [
              "Citation            0.890835\n",
              "Warning             0.059361\n",
              "Arrest Driver       0.031604\n",
              "No Action           0.007222\n",
              "N/D                 0.007014\n",
              "Arrest Passenger    0.003964\n",
              "Name: stop_outcome, dtype: float64"
            ]
          },
          "metadata": {},
          "execution_count": 14
        }
      ]
    },
    {
      "cell_type": "markdown",
      "source": [
        "Does race play a factor into the number of arrests?"
      ],
      "metadata": {
        "id": "WMKwpxNLaH1s"
      }
    },
    {
      "cell_type": "code",
      "source": [
        "#to rename cols\n",
        "#ri2.rename(columns = {'subject_race':'driver_race'}, inplace = True)\n",
        "\n",
        "ri2.driver_race.value_counts()"
      ],
      "metadata": {
        "colab": {
          "base_uri": "https://localhost:8080/"
        },
        "id": "MHArxG-LX6Re",
        "outputId": "38bbb7bf-5068-43e3-bbcc-ac6031d69aab"
      },
      "execution_count": 15,
      "outputs": [
        {
          "output_type": "execute_result",
          "data": {
            "text/plain": [
              "White       61872\n",
              "Black       12285\n",
              "Hispanic     9727\n",
              "Asian        2390\n",
              "Other         265\n",
              "Name: driver_race, dtype: int64"
            ]
          },
          "metadata": {},
          "execution_count": 15
        }
      ]
    },
    {
      "cell_type": "code",
      "source": [
        "white = ri2[ri2.driver_race=='White'] #creating a new df just with a specific race\n",
        "white.shape #it shows only the amount of rows corresponding to white drivers"
      ],
      "metadata": {
        "colab": {
          "base_uri": "https://localhost:8080/"
        },
        "id": "MBFBliScZV9c",
        "outputId": "a8496a06-c28b-4d1a-a752-c83dd86df965"
      },
      "execution_count": 16,
      "outputs": [
        {
          "output_type": "execute_result",
          "data": {
            "text/plain": [
              "(61872, 14)"
            ]
          },
          "metadata": {},
          "execution_count": 16
        }
      ]
    },
    {
      "cell_type": "code",
      "source": [
        "white.stop_outcome.value_counts(normalize=True)"
      ],
      "metadata": {
        "colab": {
          "base_uri": "https://localhost:8080/"
        },
        "id": "GbHw8vQZZjwW",
        "outputId": "c361739e-8d26-4c53-ded9-5b2587b7c1b3"
      },
      "execution_count": 17,
      "outputs": [
        {
          "output_type": "execute_result",
          "data": {
            "text/plain": [
              "Citation            0.902234\n",
              "Warning             0.057522\n",
              "Arrest Driver       0.024017\n",
              "No Action           0.007047\n",
              "N/D                 0.006433\n",
              "Arrest Passenger    0.002748\n",
              "Name: stop_outcome, dtype: float64"
            ]
          },
          "metadata": {},
          "execution_count": 17
        }
      ]
    },
    {
      "cell_type": "code",
      "source": [
        "black = ri2[ri2.driver_race=='Black']\n",
        "black.stop_outcome.value_counts(normalize=True)"
      ],
      "metadata": {
        "colab": {
          "base_uri": "https://localhost:8080/"
        },
        "id": "zNJ2w1_QZtiT",
        "outputId": "48af064a-c8f4-4d97-c091-04d2cd308497"
      },
      "execution_count": 18,
      "outputs": [
        {
          "output_type": "execute_result",
          "data": {
            "text/plain": [
              "Citation            0.857224\n",
              "Warning             0.065120\n",
              "Arrest Driver       0.054294\n",
              "N/D                 0.008547\n",
              "Arrest Passenger    0.008303\n",
              "No Action           0.006512\n",
              "Name: stop_outcome, dtype: float64"
            ]
          },
          "metadata": {},
          "execution_count": 18
        }
      ]
    },
    {
      "cell_type": "markdown",
      "source": [
        "Does gender play a role into the number of arrests?"
      ],
      "metadata": {
        "id": "V311d3yHaMjI"
      }
    },
    {
      "cell_type": "code",
      "source": [
        "# Filtering a df by multiple conditions\n",
        "#e.g. female drivers and only thos who have been arrested\n",
        "# AND is &, OR is |\n",
        "#each condiiton is surrounded by parenthesis\n",
        "\n",
        "female_and_arrested = ri2[(ri2.driver_gender == 'F') & (ri2.is_arrested == True)]\n",
        "print(female_and_arrested.shape)\n",
        "\n"
      ],
      "metadata": {
        "colab": {
          "base_uri": "https://localhost:8080/"
        },
        "id": "BuwyDRzmaTIa",
        "outputId": "07f0d78e-6510-451e-f8ff-cc4842bc44a7"
      },
      "execution_count": 19,
      "outputs": [
        {
          "output_type": "stream",
          "name": "stdout",
          "text": [
            "(669, 14)\n"
          ]
        }
      ]
    },
    {
      "cell_type": "code",
      "source": [
        "female_or_arrested = ri2[(ri2.driver_gender == 'F') | (ri2.is_arrested == True)]\n",
        "\n",
        "print(female_or_arrested.shape) \n",
        "#this df is way larger than the previous one because it includes all females regardless of them being arrested, as well as drivers regardless of them being female."
      ],
      "metadata": {
        "colab": {
          "base_uri": "https://localhost:8080/"
        },
        "id": "nWMOdHQtbA4A",
        "outputId": "2dae32b8-8c1f-42df-fb1c-5132dcc6812d"
      },
      "execution_count": 20,
      "outputs": [
        {
          "output_type": "stream",
          "name": "stdout",
          "text": [
            "(26183, 14)\n"
          ]
        }
      ]
    },
    {
      "cell_type": "markdown",
      "source": [
        "USEFUL PANDAS TECHNIQUES\n",
        "  \n",
        "Math with Boolean values(True = 1, False = 0)"
      ],
      "metadata": {
        "id": "aoWEzFe9cVoj"
      }
    },
    {
      "cell_type": "code",
      "source": [
        "import numpy as np #because you're working with lists\n",
        "\n",
        "# Mean of boolean series represents a percentage of True values\n",
        "np.mean([0,1,0,0])\n",
        "np.mean([False, True, False, False]) #the same as the one before"
      ],
      "metadata": {
        "colab": {
          "base_uri": "https://localhost:8080/"
        },
        "id": "9FQYX-GJbdrk",
        "outputId": "a8c0207a-9338-4e04-dbe9-e9ac2476ac14"
      },
      "execution_count": 21,
      "outputs": [
        {
          "output_type": "execute_result",
          "data": {
            "text/plain": [
              "0.25"
            ]
          },
          "metadata": {},
          "execution_count": 21
        }
      ]
    },
    {
      "cell_type": "code",
      "source": [
        "ri2.is_arrested.value_counts(normalize=True) #calculating the percentage of stops that result in arrest"
      ],
      "metadata": {
        "colab": {
          "base_uri": "https://localhost:8080/"
        },
        "id": "xv23cNvKc5lb",
        "outputId": "4a6927d8-fdc9-4e87-f6d2-3fa2dadeee8b"
      },
      "execution_count": 22,
      "outputs": [
        {
          "output_type": "execute_result",
          "data": {
            "text/plain": [
              "False    0.964432\n",
              "True     0.035568\n",
              "Name: is_arrested, dtype: float64"
            ]
          },
          "metadata": {},
          "execution_count": 22
        }
      ]
    },
    {
      "cell_type": "code",
      "source": [
        "ri2.is_arrested.mean() #calculates the percentage of True values\n",
        "#the same as before, but it only works because the data type is boolean, that's why checking the data type at the beginning is so important"
      ],
      "metadata": {
        "colab": {
          "base_uri": "https://localhost:8080/"
        },
        "id": "L0_w1XFmdA8q",
        "outputId": "a4f0c779-29d3-45db-d7ae-a879903dff7a"
      },
      "execution_count": 23,
      "outputs": [
        {
          "output_type": "execute_result",
          "data": {
            "text/plain": [
              "0.03556777868937704"
            ]
          },
          "metadata": {},
          "execution_count": 23
        }
      ]
    },
    {
      "cell_type": "code",
      "source": [
        "ri2.search_conducted.mean()"
      ],
      "metadata": {
        "colab": {
          "base_uri": "https://localhost:8080/"
        },
        "id": "I228me4jdMlq",
        "outputId": "dd8c457b-c706-4bad-ce12-a89f4b03dba2"
      },
      "execution_count": 24,
      "outputs": [
        {
          "output_type": "execute_result",
          "data": {
            "text/plain": [
              "0.03604713268876511"
            ]
          },
          "metadata": {},
          "execution_count": 24
        }
      ]
    },
    {
      "cell_type": "code",
      "source": [
        "#calculating the search rate for female drivers\n",
        "ri2[ri2.driver_gender=='F'].search_conducted.mean()"
      ],
      "metadata": {
        "colab": {
          "base_uri": "https://localhost:8080/"
        },
        "id": "MrL5TuPke5hW",
        "outputId": "2d5b143a-fe1e-4127-941c-db27558b1a74"
      },
      "execution_count": 25,
      "outputs": [
        {
          "output_type": "execute_result",
          "data": {
            "text/plain": [
              "0.019180617481282074"
            ]
          },
          "metadata": {},
          "execution_count": 25
        }
      ]
    },
    {
      "cell_type": "code",
      "source": [
        "#calculating the search rate for male drivers\n",
        "ri2[ri2.driver_gender=='M'].search_conducted.mean()"
      ],
      "metadata": {
        "colab": {
          "base_uri": "https://localhost:8080/"
        },
        "id": "7LisaNI8flH0",
        "outputId": "d9ea3763-1a9e-441d-ff48-29cabdf341a4"
      },
      "execution_count": 26,
      "outputs": [
        {
          "output_type": "execute_result",
          "data": {
            "text/plain": [
              "0.04542557598546892"
            ]
          },
          "metadata": {},
          "execution_count": 26
        }
      ]
    },
    {
      "cell_type": "code",
      "source": [
        "#The same results as before but given by only one command\n",
        "ri2.groupby('driver_gender').search_conducted.mean()"
      ],
      "metadata": {
        "colab": {
          "base_uri": "https://localhost:8080/"
        },
        "id": "J-deH8mlf6sU",
        "outputId": "0ed57531-c882-4869-fb8d-94e0cd4c0640"
      },
      "execution_count": 27,
      "outputs": [
        {
          "output_type": "execute_result",
          "data": {
            "text/plain": [
              "driver_gender\n",
              "F    0.019181\n",
              "M    0.045426\n",
              "Name: search_conducted, dtype: float64"
            ]
          },
          "metadata": {},
          "execution_count": 27
        }
      ]
    },
    {
      "cell_type": "code",
      "source": [
        "#different types of violation\n",
        "ri2.violation.head()"
      ],
      "metadata": {
        "id": "Oi66b9_wgI_A",
        "colab": {
          "base_uri": "https://localhost:8080/"
        },
        "outputId": "70b663ea-6e71-4289-a119-b5c115bcd11f"
      },
      "execution_count": 28,
      "outputs": [
        {
          "output_type": "execute_result",
          "data": {
            "text/plain": [
              "date_time\n",
              "2005-01-04 12:55:00    Equipment\n",
              "2005-01-23 23:15:00     Speeding\n",
              "2005-02-17 04:15:00     Speeding\n",
              "2005-02-20 17:15:00        Other\n",
              "2005-02-24 01:20:00     Speeding\n",
              "Name: violation, dtype: object"
            ]
          },
          "metadata": {},
          "execution_count": 28
        }
      ]
    },
    {
      "cell_type": "code",
      "source": [
        "#types of violation according to gender\n",
        "print(ri2.groupby(['driver_gender', 'violation']).search_conducted.mean())"
      ],
      "metadata": {
        "colab": {
          "base_uri": "https://localhost:8080/"
        },
        "id": "315SR4heKS1z",
        "outputId": "dda33400-828e-4d65-f199-35a300a03596"
      },
      "execution_count": 29,
      "outputs": [
        {
          "output_type": "stream",
          "name": "stdout",
          "text": [
            "driver_gender  violation          \n",
            "F              Equipment              0.039984\n",
            "               Moving violation       0.039257\n",
            "               Other                  0.041018\n",
            "               Registration/plates    0.054924\n",
            "               Seat belt              0.017301\n",
            "               Speeding               0.008309\n",
            "M              Equipment              0.071496\n",
            "               Moving violation       0.061524\n",
            "               Other                  0.046191\n",
            "               Registration/plates    0.108802\n",
            "               Seat belt              0.035119\n",
            "               Speeding               0.027885\n",
            "Name: search_conducted, dtype: float64\n"
          ]
        }
      ]
    },
    {
      "cell_type": "code",
      "source": [
        "#same as before, but in a nicer looking way\n",
        "ri2.groupby(['violation', 'driver_gender']).search_conducted.mean()"
      ],
      "metadata": {
        "colab": {
          "base_uri": "https://localhost:8080/"
        },
        "id": "d72LNOjyOjZj",
        "outputId": "9d15d326-5b95-417b-831b-ee9fea4d0ed8"
      },
      "execution_count": 30,
      "outputs": [
        {
          "output_type": "execute_result",
          "data": {
            "text/plain": [
              "violation            driver_gender\n",
              "Equipment            F                0.039984\n",
              "                     M                0.071496\n",
              "Moving violation     F                0.039257\n",
              "                     M                0.061524\n",
              "Other                F                0.041018\n",
              "                     M                0.046191\n",
              "Registration/plates  F                0.054924\n",
              "                     M                0.108802\n",
              "Seat belt            F                0.017301\n",
              "                     M                0.035119\n",
              "Speeding             F                0.008309\n",
              "                     M                0.027885\n",
              "Name: search_conducted, dtype: float64"
            ]
          },
          "metadata": {},
          "execution_count": 30
        }
      ]
    },
    {
      "cell_type": "markdown",
      "source": [
        "Does gender affect who is frisked during a search?\n",
        "  \n",
        "* The search_conducted field is True if there is a search during  a traffic stop, and False otherwise."
      ],
      "metadata": {
        "id": "ywZnUdQlOyHD"
      }
    },
    {
      "cell_type": "code",
      "source": [
        "ri2.search_type.value_counts(dropna=False)"
      ],
      "metadata": {
        "colab": {
          "base_uri": "https://localhost:8080/"
        },
        "id": "RTrWr5yBO2oW",
        "outputId": "503c7d5e-0119-49d0-fe32-2cc6d6b764af"
      },
      "execution_count": 31,
      "outputs": [
        {
          "output_type": "execute_result",
          "data": {
            "text/plain": [
              "NaN                                                         88434\n",
              "Incident to Arrest                                           1290\n",
              "Probable Cause                                                924\n",
              "Inventory                                                     219\n",
              "Reasonable Suspicion                                          214\n",
              "Protective Frisk                                              164\n",
              "Incident to Arrest,Inventory                                  123\n",
              "Incident to Arrest,Probable Cause                             100\n",
              "Probable Cause,Reasonable Suspicion                            54\n",
              "Incident to Arrest,Inventory,Probable Cause                    35\n",
              "Probable Cause,Protective Frisk                                35\n",
              "Incident to Arrest,Protective Frisk                            33\n",
              "Inventory,Probable Cause                                       25\n",
              "Protective Frisk,Reasonable Suspicion                          19\n",
              "Incident to Arrest,Inventory,Protective Frisk                  18\n",
              "Incident to Arrest,Probable Cause,Protective Frisk             13\n",
              "Inventory,Protective Frisk                                     12\n",
              "Incident to Arrest,Reasonable Suspicion                         8\n",
              "Probable Cause,Protective Frisk,Reasonable Suspicion            5\n",
              "Incident to Arrest,Probable Cause,Reasonable Suspicion          5\n",
              "Incident to Arrest,Inventory,Reasonable Suspicion               4\n",
              "Incident to Arrest,Protective Frisk,Reasonable Suspicion        2\n",
              "Inventory,Reasonable Suspicion                                  2\n",
              "Inventory,Protective Frisk,Reasonable Suspicion                 1\n",
              "Inventory,Probable Cause,Reasonable Suspicion                   1\n",
              "Inventory,Probable Cause,Protective Frisk                       1\n",
              "Name: search_type, dtype: int64"
            ]
          },
          "metadata": {},
          "execution_count": 31
        }
      ]
    },
    {
      "cell_type": "markdown",
      "source": [
        "Comparing frisk rates by gender"
      ],
      "metadata": {
        "id": "eqLKgF0aom03"
      }
    },
    {
      "cell_type": "code",
      "source": [
        "#Creating a df of stops in which a search was conducted\n",
        "searched = ri[ri.search_conducted == True]\n",
        "\n",
        "# Calculate the overall frisk rate by taking the mean of 'frisk'\n",
        "print(searched.frisk_performed.mean())\n",
        "\n",
        "# Calculate the frisk rate for each gender\n",
        "print(searched.groupby('subject_sex').frisk_performed.mean())"
      ],
      "metadata": {
        "id": "F6WddQFNPQip",
        "colab": {
          "base_uri": "https://localhost:8080/"
        },
        "outputId": "a83a7773-d145-48f7-93b3-073ccd4a4de5"
      },
      "execution_count": 32,
      "outputs": [
        {
          "output_type": "stream",
          "name": "stdout",
          "text": [
            "0.5248282851030289\n",
            "subject_sex\n",
            "female    0.437983\n",
            "male      0.538783\n",
            "Name: frisk_performed, dtype: float64\n"
          ]
        }
      ]
    },
    {
      "cell_type": "markdown",
      "source": [
        "Calculating and plotting the hourly arrest rate"
      ],
      "metadata": {
        "id": "TEFQbQ2DlaoZ"
      }
    },
    {
      "cell_type": "code",
      "source": [
        "ri2.columns\n",
        "ri2.dtypes\n",
        "\n",
        "#joining stop_date and stop_time to the same column\n",
        "ri2.stop_date.str.replace('/', '-') #not sure if this step is really necessary, probably not\n",
        "combined = ri2.stop_date.str.cat(ri2.stop_time, sep=' ')\n",
        "combined.head\n",
        "#changing the type from object to datetime\n",
        "ri2[\"date_and_time\"] = pd.to_datetime(combined)\n",
        "ri2.dtypes\n",
        "#setting date_and_time as the index\n",
        "ri2.set_index('date_and_time', inplace=True)\n",
        "ri2.index"
      ],
      "metadata": {
        "colab": {
          "base_uri": "https://localhost:8080/"
        },
        "id": "O5NtuP7ylssZ",
        "outputId": "08a94891-d64f-4d1d-a17b-3df4d579a162"
      },
      "execution_count": 33,
      "outputs": [
        {
          "output_type": "execute_result",
          "data": {
            "text/plain": [
              "DatetimeIndex(['2005-01-04 12:55:00', '2005-01-23 23:15:00',\n",
              "               '2005-02-17 04:15:00', '2005-02-20 17:15:00',\n",
              "               '2005-02-24 01:20:00', '2005-03-14 10:00:00',\n",
              "               '2005-03-29 21:55:00', '2005-04-04 21:25:00',\n",
              "               '2005-07-14 11:20:00', '2005-07-14 19:55:00',\n",
              "               ...\n",
              "               '2015-12-31 13:23:00', '2015-12-31 18:59:00',\n",
              "               '2015-12-31 19:13:00', '2015-12-31 20:20:00',\n",
              "               '2015-12-31 20:50:00', '2015-12-31 21:21:00',\n",
              "               '2015-12-31 21:59:00', '2015-12-31 22:04:00',\n",
              "               '2015-12-31 22:09:00', '2015-12-31 22:47:00'],\n",
              "              dtype='datetime64[ns]', name='date_and_time', length=91741, freq=None)"
            ]
          },
          "metadata": {},
          "execution_count": 33
        }
      ]
    },
    {
      "cell_type": "code",
      "source": [
        "# Calculate the overall arrest rate\n",
        "print(ri2.is_arrested.mean())\n",
        "\n",
        "# Calculate the hourly arrest rate\n",
        "print(ri2.groupby(ri2.index.hour).is_arrested.mean())\n",
        "\n",
        "# Save the hourly arrest rate\n",
        "hourly_arrest_rate = ri2.groupby(ri2.index.hour).is_arrested.mean()\n",
        "\n",
        "# Import matplotlib.pyplot as plt\n",
        "import matplotlib.pyplot as plt\n",
        "\n",
        "# Create a line plot of 'hourly_arrest_rate'\n",
        "hourly_arrest_rate.plot()\n",
        "\n",
        "# Add the xlabel, ylabel, and title\n",
        "plt.xlabel('Hour')\n",
        "plt.ylabel('Arrest Rate')\n",
        "plt.title('Arrest Rate by Time of Day')\n",
        "\n",
        "# Display the plot\n",
        "plt.show()\n",
        "\n",
        "#Peak at night, drop in early morning hours."
      ],
      "metadata": {
        "colab": {
          "base_uri": "https://localhost:8080/",
          "height": 777
        },
        "id": "mCfu_Hk5khaO",
        "outputId": "371a2921-0946-464b-a622-498454c5716f"
      },
      "execution_count": 34,
      "outputs": [
        {
          "output_type": "stream",
          "name": "stdout",
          "text": [
            "0.03556777868937704\n",
            "date_and_time\n",
            "0     0.051420\n",
            "1     0.064932\n",
            "2     0.060798\n",
            "3     0.060549\n",
            "4     0.048000\n",
            "5     0.042781\n",
            "6     0.013813\n",
            "7     0.013032\n",
            "8     0.021854\n",
            "9     0.025206\n",
            "10    0.028213\n",
            "11    0.028897\n",
            "12    0.037399\n",
            "13    0.030776\n",
            "14    0.030605\n",
            "15    0.030679\n",
            "16    0.035281\n",
            "17    0.040619\n",
            "18    0.038186\n",
            "19    0.032245\n",
            "20    0.038107\n",
            "21    0.064541\n",
            "22    0.048666\n",
            "23    0.047582\n",
            "Name: is_arrested, dtype: float64\n"
          ]
        },
        {
          "output_type": "display_data",
          "data": {
            "text/plain": [
              "<Figure size 432x288 with 1 Axes>"
            ],
            "image/png": "[encoded data removed]"
          },
          "metadata": {
            "needs_background": "light"
          }
        }
      ]
    },
    {
      "cell_type": "markdown",
      "source": [
        "Plotting drug related stops"
      ],
      "metadata": {
        "id": "A2-LDCq1oRoC"
      }
    },
    {
      "cell_type": "code",
      "source": [
        "# Calculate the annual rate of drug-related stops\n",
        "#print(ri2.drugs_related_stop.groupby(ri2.index.year).mean()) OR\n",
        "print(ri2.drugs_related_stop.resample('A').mean())\n",
        "\n",
        "# Save the annual rate of drug-related stops\n",
        "annual_drug_rate = ri2.drugs_related_stop.resample('A').mean()\n",
        "\n",
        "# Create a line plot of 'annual_drug_rate'\n",
        "annual_drug_rate.plot()\n",
        "\n",
        "# Display the plot\n",
        "plt.show()\n"
      ],
      "metadata": {
        "colab": {
          "base_uri": "https://localhost:8080/",
          "height": 512
        },
        "id": "rfR4omiRoWVE",
        "outputId": "90330003-86ff-4d9f-c742-c7c8ccb9bf15"
      },
      "execution_count": 35,
      "outputs": [
        {
          "output_type": "stream",
          "name": "stdout",
          "text": [
            "date_and_time\n",
            "2005-12-31    0.006390\n",
            "2006-12-31    0.006913\n",
            "2007-12-31    0.007520\n",
            "2008-12-31    0.006998\n",
            "2009-12-31    0.009079\n",
            "2010-12-31    0.009407\n",
            "2011-12-31    0.009035\n",
            "2012-12-31    0.009388\n",
            "2013-12-31    0.012283\n",
            "2014-12-31    0.013280\n",
            "2015-12-31    0.011787\n",
            "Freq: A-DEC, Name: drugs_related_stop, dtype: float64\n"
          ]
        },
        {
          "output_type": "display_data",
          "data": {
            "text/plain": [
              "<Figure size 432x288 with 1 Axes>"
            ],
            "image/png": "[encoded data removed]"
          },
          "metadata": {
            "needs_background": "light"
          }
        }
      ]
    },
    {
      "cell_type": "markdown",
      "source": [
        "We've seen that the amount of drug-related stops have nearly doubled in the last few years.\n",
        "Is it because more searches have been done?"
      ],
      "metadata": {
        "id": "EDZgGQaY_zm4"
      }
    },
    {
      "cell_type": "code",
      "source": [
        "# Calculate and save the annual search rate\n",
        "annual_search_rate = ri2.search_conducted.resample('A').mean()\n",
        "\n",
        "# Concatenate 'annual_drug_rate' and 'annual_search_rate'\n",
        "annual = pd.concat([annual_drug_rate, annual_search_rate], axis='columns')\n",
        "\n",
        "# Create subplots from 'annual'\n",
        "annual.plot(subplots = True)\n",
        "\n",
        "# Display the subplots\n",
        "plt.show()"
      ],
      "metadata": {
        "colab": {
          "base_uri": "https://localhost:8080/",
          "height": 280
        },
        "id": "196DIAt39IlC",
        "outputId": "cae1f9d8-99ed-443e-983f-c8d709f59cfe"
      },
      "execution_count": 36,
      "outputs": [
        {
          "output_type": "display_data",
          "data": {
            "text/plain": [
              "<Figure size 432x288 with 2 Axes>"
            ],
            "image/png": "[encoded data removed]"
          },
          "metadata": {
            "needs_background": "light"
          }
        }
      ]
    },
    {
      "cell_type": "markdown",
      "source": [
        "Now we can see that the rate of drug-related stops have actually increased even though the search rate decreased, disproving our hypothesis."
      ],
      "metadata": {
        "id": "RVXqM7GAApz5"
      }
    },
    {
      "cell_type": "markdown",
      "source": [
        "**Tallying and plotting violations per district**\n",
        "\n"
      ],
      "metadata": {
        "id": "lQAyRrPpBGSG"
      }
    },
    {
      "cell_type": "code",
      "source": [
        "# Create a frequency table of districts and violations\n",
        "print(pd.crosstab(ri2.district, ri2.violation))\n",
        "\n",
        "# Save the frequency table as 'all_zones'\n",
        "all_zones = pd.crosstab(ri2.district, ri2.violation)\n",
        "\n",
        "# Select rows 'Zone K1' through 'Zone K3'\n",
        "print(all_zones.loc['Zone K1':'Zone K3'])\n",
        "\n",
        "# Save the smaller table as 'k_zones'\n",
        "k_zones = all_zones.loc['Zone K1':'Zone K3']\n",
        "\n",
        "# Create a stacked bar plot of 'k_zones'\n",
        "k_zones.plot(kind='bar', stacked=True)\n",
        "\n",
        "# Display the plot\n",
        "plt.show()\n",
        "\n",
        "# Create a bar plot of 'k_zones'\n",
        "k_zones.plot(kind='bar')\n",
        "\n",
        "# Display the plot\n",
        "plt.show()"
      ],
      "metadata": {
        "colab": {
          "base_uri": "https://localhost:8080/",
          "height": 1000
        },
        "id": "j0TYVhbGBB-C",
        "outputId": "81da36fb-dc6e-498e-8f69-f0d29e44b0ca"
      },
      "execution_count": 37,
      "outputs": [
        {
          "output_type": "stream",
          "name": "stdout",
          "text": [
            "violation  Equipment  Moving violation  Other  Registration/plates  Seat belt  \\\n",
            "district                                                                        \n",
            "Zone K1          673              1254    290                  120          0   \n",
            "Zone K2         2061              2962    942                  768        481   \n",
            "Zone K3         2302              2898    706                  695        638   \n",
            "Zone X1          296               671    143                   38         74   \n",
            "Zone X3         2049              3086    769                  671        820   \n",
            "Zone X4         3541              5353   1560                 1411        843   \n",
            "\n",
            "violation  Speeding  \n",
            "district             \n",
            "Zone K1        5960  \n",
            "Zone K2       10448  \n",
            "Zone K3       12323  \n",
            "Zone X1        1119  \n",
            "Zone X3        8779  \n",
            "Zone X4        9795  \n",
            "violation  Equipment  Moving violation  Other  Registration/plates  Seat belt  \\\n",
            "district                                                                        \n",
            "Zone K1          673              1254    290                  120          0   \n",
            "Zone K2         2061              2962    942                  768        481   \n",
            "Zone K3         2302              2898    706                  695        638   \n",
            "\n",
            "violation  Speeding  \n",
            "district             \n",
            "Zone K1        5960  \n",
            "Zone K2       10448  \n",
            "Zone K3       12323  \n"
          ]
        },
        {
          "output_type": "display_data",
          "data": {
            "text/plain": [
              "<Figure size 432x288 with 1 Axes>"
            ],
            "image/png": "[encoded data removed]"
          },
          "metadata": {
            "needs_background": "light"
          }
        },
        {
          "output_type": "display_data",
          "data": {
            "text/plain": [
              "<Figure size 432x288 with 1 Axes>"
            ],
            "image/png": "[encoded data removed]"
          },
          "metadata": {
            "needs_background": "light"
          }
        }
      ]
    },
    {
      "cell_type": "markdown",
      "source": [
        "**Converting stop durations to numbers**"
      ],
      "metadata": {
        "id": "Y9Ttki1ha3gP"
      }
    },
    {
      "cell_type": "code",
      "source": [
        "# Print the unique values in 'stop_duration'\n",
        "print(ri2.stop_duration.unique())\n",
        "\n",
        "# Create a dictionary that maps strings to integers\n",
        "mapping = {'0-15 Min': 8, '16-30 Min': 23, '30+ Min': 45}\n",
        "\n",
        "# Convert the 'stop_duration' strings to integers using the 'mapping'\n",
        "ri2['stop_minutes'] = ri2.stop_duration.map(mapping)\n",
        "\n",
        "# Print the unique values in 'stop_minutes'\n",
        "print(ri2.stop_minutes.unique())"
      ],
      "metadata": {
        "colab": {
          "base_uri": "https://localhost:8080/"
        },
        "id": "ZedrnMWhRPm6",
        "outputId": "4ddc4925-eefc-4926-910a-2e3e479417a9"
      },
      "execution_count": 39,
      "outputs": [
        {
          "output_type": "stream",
          "name": "stdout",
          "text": [
            "['0-15 Min' '16-30 Min' nan '30+ Min']\n",
            "[ 8. 23. nan 45.]\n"
          ]
        }
      ]
    },
    {
      "cell_type": "markdown",
      "source": [
        "Plotting the stop length"
      ],
      "metadata": {
        "id": "NqvPq68WcFqn"
      }
    },
    {
      "cell_type": "code",
      "source": [
        "# Calculate the mean 'stop_minutes' for each value in 'violation_raw'\n",
        "print(ri2.groupby('violation_raw').stop_minutes.mean())\n",
        "\n",
        "# Save the resulting Series as 'stop_length'\n",
        "stop_length = ri2.groupby('violation_raw').stop_minutes.mean()\n",
        "\n",
        "# Sort 'stop_length' by its values and create a horizontal bar plot\n",
        "stop_length.sort_values().plot(kind='barh')\n",
        "\n",
        "# Display the plot\n",
        "plt.show()"
      ],
      "metadata": {
        "colab": {
          "base_uri": "https://localhost:8080/",
          "height": 515
        },
        "id": "OCOtVSZ8cB4I",
        "outputId": "713ad8ea-d9b5-4511-acd8-7e64511c2864"
      },
      "execution_count": 41,
      "outputs": [
        {
          "output_type": "stream",
          "name": "stdout",
          "text": [
            "violation_raw\n",
            "APB                                 17.967033\n",
            "Call for Service                    22.140805\n",
            "Equipment/Inspection Violation      11.445340\n",
            "Motorist Assist/Courtesy            17.741463\n",
            "Other Traffic Violation             13.844490\n",
            "Registration Violation              13.736970\n",
            "Seatbelt Violation                   9.662815\n",
            "Special Detail/Directed Patrol      15.123632\n",
            "Speeding                            10.581509\n",
            "Suspicious Person                   14.910714\n",
            "Violation of City/Town Ordinance    13.254144\n",
            "Warrant                             24.055556\n",
            "Name: stop_minutes, dtype: float64\n"
          ]
        },
        {
          "output_type": "display_data",
          "data": {
            "text/plain": [
              "<Figure size 432x288 with 1 Axes>"
            ],
            "image/png": "[encoded data removed]"
          },
          "metadata": {
            "needs_background": "light"
          }
        }
      ]
    },
    {
      "cell_type": "markdown",
      "source": [
        "**EXPLORING THE WEATHER DATASET**"
      ],
      "metadata": {
        "id": "eTxAYEj7dQNp"
      }
    },
    {
      "cell_type": "code",
      "source": [
        "# Read 'weather.csv' into a DataFrame named 'weather'\n",
        "weather=pd.read_csv('https://assets.datacamp.com/production/repositories/1497/datasets/02f3fb2d4416d3f6626e1117688e0386784e8e55/weather.csv')\n",
        "\n",
        "# Describe the temperature columns\n",
        "print(weather[['TMIN','TMAX', 'TAVG']].describe())\n",
        "\n",
        "# Create a box plot of the temperature columns\n",
        "weather[['TMIN','TMAX', 'TAVG']].plot(kind='box')\n",
        "\n",
        "# Display the plot\n",
        "plt.show()"
      ],
      "metadata": {
        "colab": {
          "base_uri": "https://localhost:8080/",
          "height": 481
        },
        "id": "sHQVVtVfdOwZ",
        "outputId": "0bf0376c-31c2-4a6c-8710-6a587f79dd6f"
      },
      "execution_count": 42,
      "outputs": [
        {
          "output_type": "stream",
          "name": "stdout",
          "text": [
            "              TMIN         TMAX         TAVG\n",
            "count  4017.000000  4017.000000  1217.000000\n",
            "mean     43.484441    61.268608    52.493016\n",
            "std      17.020298    18.199517    17.830714\n",
            "min      -5.000000    15.000000     6.000000\n",
            "25%      30.000000    47.000000    39.000000\n",
            "50%      44.000000    62.000000    54.000000\n",
            "75%      58.000000    77.000000    68.000000\n",
            "max      77.000000   102.000000    86.000000\n"
          ]
        },
        {
          "output_type": "stream",
          "name": "stderr",
          "text": [
            "/usr/local/lib/python3.8/dist-packages/matplotlib/cbook/__init__.py:1376: VisibleDeprecationWarning: Creating an ndarray from ragged nested sequences (which is a list-or-tuple of lists-or-tuples-or ndarrays with different lengths or shapes) is deprecated. If you meant to do this, you must specify 'dtype=object' when creating the ndarray.\n",
            "  X = np.atleast_1d(X.T if isinstance(X, np.ndarray) else np.asarray(X))\n"
          ]
        },
        {
          "output_type": "display_data",
          "data": {
            "text/plain": [
              "<Figure size 432x288 with 1 Axes>"
            ],
            "image/png": "[encoded data removed]"
          },
          "metadata": {
            "needs_background": "light"
          }
        }
      ]
    },
    {
      "cell_type": "code",
      "source": [
        "# Create a 'TDIFF' column that represents temperature difference\n",
        "weather['TDIFF']= weather['TMAX']-weather['TMIN']\n",
        "\n",
        "# Describe the 'TDIFF' column\n",
        "print(weather['TDIFF'].describe())\n",
        "\n",
        "# Create a histogram with 20 bins to visualize 'TDIFF'\n",
        "weather['TDIFF'].plot(kind='hist', bins=20)\n",
        "\n",
        "# Display the plot\n",
        "plt.show()"
      ],
      "metadata": {
        "colab": {
          "base_uri": "https://localhost:8080/",
          "height": 426
        },
        "id": "xtWF4e6Bd_L5",
        "outputId": "72316951-e0bc-41a2-f4fa-d2cefb5d5a1b"
      },
      "execution_count": 43,
      "outputs": [
        {
          "output_type": "stream",
          "name": "stdout",
          "text": [
            "count    4017.000000\n",
            "mean       17.784167\n",
            "std         6.350720\n",
            "min         2.000000\n",
            "25%        14.000000\n",
            "50%        18.000000\n",
            "75%        22.000000\n",
            "max        43.000000\n",
            "Name: TDIFF, dtype: float64\n"
          ]
        },
        {
          "output_type": "display_data",
          "data": {
            "text/plain": [
              "<Figure size 432x288 with 1 Axes>"
            ],
            "image/png": "[encoded data removed]"
          },
          "metadata": {
            "needs_background": "light"
          }
        }
      ]
    },
    {
      "cell_type": "markdown",
      "source": [
        "Categorising weather conditions"
      ],
      "metadata": {
        "id": "AJ_gwIg3ey81"
      }
    },
    {
      "cell_type": "code",
      "source": [
        "# Copy 'WT01' through 'WT22' to a new DataFrame\n",
        "WT = weather.loc[:, 'WT01':'WT22']\n",
        "\n",
        "# Calculate the sum of each row in 'WT'\n",
        "weather['bad_conditions'] = WT.sum(axis='columns')\n",
        "\n",
        "# Replace missing values in 'bad_conditions' with '0'\n",
        "weather['bad_conditions'] = weather.bad_conditions.fillna(0).astype('int')\n",
        "\n",
        "# Create a histogram to visualize 'bad_conditions'\n",
        "weather.bad_conditions.plot(kind='hist')\n",
        "\n",
        "# Display the plot\n",
        "plt.show()"
      ],
      "metadata": {
        "colab": {
          "base_uri": "https://localhost:8080/",
          "height": 265
        },
        "id": "KODxcBpye1us",
        "outputId": "29e872f5-f506-4b6a-c31b-4cece2bc9f98"
      },
      "execution_count": 44,
      "outputs": [
        {
          "output_type": "display_data",
          "data": {
            "text/plain": [
              "<Figure size 432x288 with 1 Axes>"
            ],
            "image/png": "[encoded data removed]"
          },
          "metadata": {
            "needs_background": "light"
          }
        }
      ]
    },
    {
      "cell_type": "markdown",
      "source": [
        "It looks like many days didn't have any bad weather conditions, and only a small portion of days had more than four bad weather conditions."
      ],
      "metadata": {
        "id": "3qgK4GzRkBP2"
      }
    },
    {
      "cell_type": "code",
      "source": [
        "# Count the unique values in 'bad_conditions' and sort the index\n",
        "print(weather.bad_conditions.value_counts().sort_index())\n",
        "\n",
        "# Create a dictionary that maps integers to strings\n",
        "mapping = {0:'good', 1:'bad', 2:'bad', 3:'bad', 4:'bad', 5:'worse', 6:'worse', 7:'worse', 8:'worse', 9:'worse'}\n",
        "\n",
        "# Convert the 'bad_conditions' integers to strings using the 'mapping'\n",
        "weather['rating'] = weather.bad_conditions.map(mapping)\n",
        "\n",
        "# Count the unique values in 'rating'\n",
        "print(weather.rating.value_counts())"
      ],
      "metadata": {
        "colab": {
          "base_uri": "https://localhost:8080/"
        },
        "id": "rS33rxt-kCzE",
        "outputId": "5f832473-3588-4e6b-e515-002defb1c9fc"
      },
      "execution_count": 45,
      "outputs": [
        {
          "output_type": "stream",
          "name": "stdout",
          "text": [
            "0    1749\n",
            "1     613\n",
            "2     367\n",
            "3     380\n",
            "4     476\n",
            "5     282\n",
            "6     101\n",
            "7      41\n",
            "8       4\n",
            "9       4\n",
            "Name: bad_conditions, dtype: int64\n",
            "bad      1836\n",
            "good     1749\n",
            "worse     432\n",
            "Name: rating, dtype: int64\n"
          ]
        }
      ]
    },
    {
      "cell_type": "code",
      "source": [
        "# Specify the logical order of the weather ratings\n",
        "cats = pd.CategoricalDtype(['good', 'bad', 'worse'], ordered=True)\n",
        "\n",
        "# Change the data type of 'rating' to category\n",
        "weather['rating'] = weather.rating.astype(cats)\n",
        "\n",
        "# Examine the head of 'rating'\n",
        "print(weather.rating.head())"
      ],
      "metadata": {
        "colab": {
          "base_uri": "https://localhost:8080/"
        },
        "id": "RjPac4_imUSH",
        "outputId": "cab38381-4bb5-4128-b67a-9b9b07317523"
      },
      "execution_count": 46,
      "outputs": [
        {
          "output_type": "stream",
          "name": "stdout",
          "text": [
            "0    bad\n",
            "1    bad\n",
            "2    bad\n",
            "3    bad\n",
            "4    bad\n",
            "Name: rating, dtype: category\n",
            "Categories (3, object): ['good' < 'bad' < 'worse']\n"
          ]
        }
      ]
    },
    {
      "cell_type": "markdown",
      "source": [
        "MERGING THE DATASETS\n"
      ],
      "metadata": {
        "id": "MTjjLRVbpRGt"
      }
    },
    {
      "cell_type": "code",
      "source": [
        "# Reset the index of 'ri'\n",
        "ri2.reset_index(inplace=True)\n",
        "\n",
        "# Examine the head of 'ri'\n",
        "print(ri2.head())\n",
        "\n",
        "# Create a DataFrame from the 'DATE' and 'rating' columns\n",
        "weather_rating = weather[['DATE', 'rating']]\n",
        "\n",
        "# Examine the head of 'weather_rating'\n",
        "print(weather_rating.head())"
      ],
      "metadata": {
        "colab": {
          "base_uri": "https://localhost:8080/"
        },
        "id": "1Fvk_QZ3pQxn",
        "outputId": "e6c6c719-19e5-4ae3-bb46-3423cf89b98d"
      },
      "execution_count": 48,
      "outputs": [
        {
          "output_type": "stream",
          "name": "stdout",
          "text": [
            "        date_and_time state   stop_date stop_time driver_gender driver_race  \\\n",
            "0 2005-01-04 12:55:00    RI  2005-01-04     12:55             M       White   \n",
            "1 2005-01-23 23:15:00    RI  2005-01-23     23:15             M       White   \n",
            "2 2005-02-17 04:15:00    RI  2005-02-17     04:15             M       White   \n",
            "3 2005-02-20 17:15:00    RI  2005-02-20     17:15             M       White   \n",
            "4 2005-02-24 01:20:00    RI  2005-02-24     01:20             F       White   \n",
            "\n",
            "                    violation_raw  violation  search_conducted search_type  \\\n",
            "0  Equipment/Inspection Violation  Equipment             False         NaN   \n",
            "1                        Speeding   Speeding             False         NaN   \n",
            "2                        Speeding   Speeding             False         NaN   \n",
            "3                Call for Service      Other             False         NaN   \n",
            "4                        Speeding   Speeding             False         NaN   \n",
            "\n",
            "    stop_outcome is_arrested stop_duration  drugs_related_stop district  \\\n",
            "0       Citation       False      0-15 Min               False  Zone X4   \n",
            "1       Citation       False      0-15 Min               False  Zone K3   \n",
            "2       Citation       False      0-15 Min               False  Zone X4   \n",
            "3  Arrest Driver        True     16-30 Min               False  Zone X1   \n",
            "4       Citation       False      0-15 Min               False  Zone X3   \n",
            "\n",
            "   stop_minutes  \n",
            "0           8.0  \n",
            "1           8.0  \n",
            "2           8.0  \n",
            "3          23.0  \n",
            "4           8.0  \n",
            "         DATE rating\n",
            "0  2005-01-01    bad\n",
            "1  2005-01-02    bad\n",
            "2  2005-01-03    bad\n",
            "3  2005-01-04    bad\n",
            "4  2005-01-05    bad\n"
          ]
        }
      ]
    },
    {
      "cell_type": "code",
      "source": [
        "# Examine the shape of 'ri'\n",
        "print(ri2.shape)\n",
        "\n",
        "# Merge 'ri' and 'weather_rating' using a left join\n",
        "ri_weather = pd.merge(left=ri2, right=weather_rating, left_on='stop_date', right_on='DATE', how='left')\n",
        "\n",
        "# Examine the shape of 'ri_weather'\n",
        "print(ri_weather.shape)\n",
        "\n",
        "# Set 'stop_datetime' as the index of 'ri_weather'\n",
        "ri_weather.set_index('date_and_time', inplace=True)"
      ],
      "metadata": {
        "colab": {
          "base_uri": "https://localhost:8080/"
        },
        "id": "XRr7O8LmpanC",
        "outputId": "04f971e8-0459-4ec9-8555-4ee356204ce4"
      },
      "execution_count": 51,
      "outputs": [
        {
          "output_type": "stream",
          "name": "stdout",
          "text": [
            "(91741, 16)\n",
            "(91741, 18)\n"
          ]
        }
      ]
    },
    {
      "cell_type": "code",
      "source": [
        "# Calculate the overall arrest rate\n",
        "print(ri_weather.is_arrested.mean())\n",
        "\n",
        "# Calculate the arrest rate for each 'rating'\n",
        "print(ri_weather.groupby('rating').is_arrested.mean())\n",
        "\n",
        "# Calculate the arrest rate for each 'violation' and 'rating'\n",
        "print(ri_weather.groupby(['violation', 'rating']).is_arrested.mean())"
      ],
      "metadata": {
        "colab": {
          "base_uri": "https://localhost:8080/"
        },
        "id": "oU4mU-6y1I2B",
        "outputId": "f35b14e9-adfd-4710-e937-3042d5450c1d"
      },
      "execution_count": 53,
      "outputs": [
        {
          "output_type": "stream",
          "name": "stdout",
          "text": [
            "0.03556777868937704\n",
            "rating\n",
            "good     0.033712\n",
            "bad      0.036261\n",
            "worse    0.041667\n",
            "Name: is_arrested, dtype: float64\n",
            "violation            rating\n",
            "Equipment            good      0.058995\n",
            "                     bad       0.066311\n",
            "                     worse     0.097357\n",
            "Moving violation     good      0.056227\n",
            "                     bad       0.058050\n",
            "                     worse     0.065860\n",
            "Other                good      0.076923\n",
            "                     bad       0.087443\n",
            "                     worse     0.062893\n",
            "Registration/plates  good      0.081574\n",
            "                     bad       0.098160\n",
            "                     worse     0.115625\n",
            "Seat belt            good      0.028587\n",
            "                     bad       0.022493\n",
            "                     worse     0.000000\n",
            "Speeding             good      0.013404\n",
            "                     bad       0.013314\n",
            "                     worse     0.016886\n",
            "Name: is_arrested, dtype: float64\n"
          ]
        }
      ]
    },
    {
      "cell_type": "markdown",
      "source": [
        "The arrest rate increases as the weather gets worse, and that trend persists across many of the violation types. This doesn't prove a causal link, but it's quite an interesting result!"
      ],
      "metadata": {
        "id": "uWOA3TN81-Wh"
      }
    },
    {
      "cell_type": "code",
      "source": [
        "# Save the output of the groupby operation from the last exercise\n",
        "arrest_rate = ri_weather.groupby(['violation', 'rating']).is_arrested.mean()\n",
        "\n",
        "# Print the 'arrest_rate' Series\n",
        "print(arrest_rate)\n",
        "\n",
        "# Print the arrest rate for moving violations in bad weather\n",
        "print(arrest_rate.loc['Moving violation', 'bad'])\n",
        "\n",
        "# Print the arrest rates for speeding violations in all three weather conditions\n",
        "print(arrest_rate.loc['Speeding'])"
      ],
      "metadata": {
        "colab": {
          "base_uri": "https://localhost:8080/"
        },
        "id": "C6oCCeWe2AeN",
        "outputId": "85d27418-3546-40df-c74b-2b8784bf5e03"
      },
      "execution_count": 54,
      "outputs": [
        {
          "output_type": "stream",
          "name": "stdout",
          "text": [
            "violation            rating\n",
            "Equipment            good      0.058995\n",
            "                     bad       0.066311\n",
            "                     worse     0.097357\n",
            "Moving violation     good      0.056227\n",
            "                     bad       0.058050\n",
            "                     worse     0.065860\n",
            "Other                good      0.076923\n",
            "                     bad       0.087443\n",
            "                     worse     0.062893\n",
            "Registration/plates  good      0.081574\n",
            "                     bad       0.098160\n",
            "                     worse     0.115625\n",
            "Seat belt            good      0.028587\n",
            "                     bad       0.022493\n",
            "                     worse     0.000000\n",
            "Speeding             good      0.013404\n",
            "                     bad       0.013314\n",
            "                     worse     0.016886\n",
            "Name: is_arrested, dtype: float64\n",
            "0.05804964058049641\n",
            "rating\n",
            "good     0.013404\n",
            "bad      0.013314\n",
            "worse    0.016886\n",
            "Name: is_arrested, dtype: float64\n"
          ]
        }
      ]
    },
    {
      "cell_type": "markdown",
      "source": [
        "Just to practice reshaping the data"
      ],
      "metadata": {
        "id": "65vUCKQh2_Rn"
      }
    },
    {
      "cell_type": "code",
      "source": [
        "# Unstack the 'arrest_rate' Series into a DataFrame\n",
        "print(arrest_rate.unstack())\n",
        "\n",
        "# Create the same DataFrame using a pivot table\n",
        "print(ri_weather.pivot_table(index='violation', columns='rating', values='is_arrested'))"
      ],
      "metadata": {
        "colab": {
          "base_uri": "https://localhost:8080/"
        },
        "id": "2b9RUl2S29-_",
        "outputId": "e6bc5ebf-9ae0-4396-8e0b-42f19b54ec05"
      },
      "execution_count": 55,
      "outputs": [
        {
          "output_type": "stream",
          "name": "stdout",
          "text": [
            "rating                   good       bad     worse\n",
            "violation                                        \n",
            "Equipment            0.058995  0.066311  0.097357\n",
            "Moving violation     0.056227  0.058050  0.065860\n",
            "Other                0.076923  0.087443  0.062893\n",
            "Registration/plates  0.081574  0.098160  0.115625\n",
            "Seat belt            0.028587  0.022493  0.000000\n",
            "Speeding             0.013404  0.013314  0.016886\n",
            "rating                   good       bad     worse\n",
            "violation                                        \n",
            "Equipment            0.058995  0.066311  0.097357\n",
            "Moving violation     0.056227  0.058050  0.065860\n",
            "Other                0.076923  0.087443  0.062893\n",
            "Registration/plates  0.081574  0.098160  0.115625\n",
            "Seat belt            0.028587  0.022493  0.000000\n",
            "Speeding             0.013404  0.013314  0.016886\n"
          ]
        }
      ]
    }
  ]
}