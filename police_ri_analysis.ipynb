{
  "nbformat": 4,
  "nbformat_minor": 0,
  "metadata": {
    "colab": {
      "provenance": [],
      "authorship_tag": "ABX9TyOSdGPM8T/JWL0ZYHo787Bm",
      "include_colab_link": true
    },
    "kernelspec": {
      "name": "python3",
      "display_name": "Python 3"
    },
    "language_info": {
      "name": "python"
    }
  },
  "cells": [
    {
      "cell_type": "markdown",
      "metadata": {
        "id": "view-in-github",
        "colab_type": "text"
      },
      "source": [
        "<a href=\"https://colab.research.google.com/github/ju-mk/police_ri/blob/main/police_ri_analysis.ipynb\" target=\"_parent\"><img src=\"https://colab.research.google.com/assets/colab-badge.svg\" alt=\"Open In Colab\"/></a>"
      ]
    },
    {
      "cell_type": "markdown",
      "source": [
        "The dataset = Traffic stops by police officers at openpolicing.stanford.edu\n",
        "\n",
        "\n",
        "\n"
      ],
      "metadata": {
        "id": "j5lu1_JlhUIw"
      }
    },
    {
      "cell_type": "markdown",
      "source": [
        "PREPARING THE DATA FOR ANALYSIS  \n",
        "  \n",
        "Introduction to the dataset"
      ],
      "metadata": {
        "id": "WMFgU0yckZVm"
      }
    },
    {
      "cell_type": "code",
      "execution_count": 1,
      "metadata": {
        "id": "GyIBOQeog4hw",
        "outputId": "cd94206b-0fdc-4972-b918-ddcd3a134c7f",
        "colab": {
          "base_uri": "https://localhost:8080/",
          "height": 325
        }
      },
      "outputs": [
        {
          "output_type": "stream",
          "name": "stderr",
          "text": [
            "/usr/local/lib/python3.8/dist-packages/IPython/core/interactiveshell.py:3326: DtypeWarning: Columns (6,17,30) have mixed types.Specify dtype option on import or set low_memory=False.\n",
            "  exec(code_obj, self.user_global_ns, self.user_ns)\n"
          ]
        },
        {
          "output_type": "execute_result",
          "data": {
            "text/plain": [
              "   raw_row_number        date      time zone subject_race subject_sex  \\\n",
              "0               1  2005-11-22  11:15:00   X3        white        male   \n",
              "1               2  2005-10-01  12:20:00   X3        white        male   \n",
              "2               3  2005-10-01  12:30:00   X3        white      female   \n",
              "\n",
              "  department_id       type arrest_made citation_issued  ... reason_for_stop  \\\n",
              "0           200  vehicular       False            True  ...        Speeding   \n",
              "1           200  vehicular       False            True  ...        Speeding   \n",
              "2           200  vehicular       False            True  ...        Speeding   \n",
              "\n",
              "  vehicle_make vehicle_model raw_BasisForStop raw_OperatorRace  \\\n",
              "0          NaN           NaN               SP                W   \n",
              "1          NaN           NaN               SP                W   \n",
              "2          NaN           NaN               SP                W   \n",
              "\n",
              "  raw_OperatorSex raw_ResultOfStop raw_SearchResultOne  raw_SearchResultTwo  \\\n",
              "0               M                M                 NaN                  NaN   \n",
              "1               M                M                 NaN                  NaN   \n",
              "2               F                M                 NaN                  NaN   \n",
              "\n",
              "  raw_SearchResultThree  \n",
              "0                   NaN  \n",
              "1                   NaN  \n",
              "2                   NaN  \n",
              "\n",
              "[3 rows x 31 columns]"
            ],
            "text/html": [
              "\n",
              "  <div id=\"df-e877e08c-69c6-48c0-819a-e04e23d81a25\">\n",
              "    <div class=\"colab-df-container\">\n",
              "      <div>\n",
              "<style scoped>\n",
              "    .dataframe tbody tr th:only-of-type {\n",
              "        vertical-align: middle;\n",
              "    }\n",
              "\n",
              "    .dataframe tbody tr th {\n",
              "        vertical-align: top;\n",
              "    }\n",
              "\n",
              "    .dataframe thead th {\n",
              "        text-align: right;\n",
              "    }\n",
              "</style>\n",
              "<table border=\"1\" class=\"dataframe\">\n",
              "  <thead>\n",
              "    <tr style=\"text-align: right;\">\n",
              "      <th></th>\n",
              "      <th>raw_row_number</th>\n",
              "      <th>date</th>\n",
              "      <th>time</th>\n",
              "      <th>zone</th>\n",
              "      <th>subject_race</th>\n",
              "      <th>subject_sex</th>\n",
              "      <th>department_id</th>\n",
              "      <th>type</th>\n",
              "      <th>arrest_made</th>\n",
              "      <th>citation_issued</th>\n",
              "      <th>...</th>\n",
              "      <th>reason_for_stop</th>\n",
              "      <th>vehicle_make</th>\n",
              "      <th>vehicle_model</th>\n",
              "      <th>raw_BasisForStop</th>\n",
              "      <th>raw_OperatorRace</th>\n",
              "      <th>raw_OperatorSex</th>\n",
              "      <th>raw_ResultOfStop</th>\n",
              "      <th>raw_SearchResultOne</th>\n",
              "      <th>raw_SearchResultTwo</th>\n",
              "      <th>raw_SearchResultThree</th>\n",
              "    </tr>\n",
              "  </thead>\n",
              "  <tbody>\n",
              "    <tr>\n",
              "      <th>0</th>\n",
              "      <td>1</td>\n",
              "      <td>2005-11-22</td>\n",
              "      <td>11:15:00</td>\n",
              "      <td>X3</td>\n",
              "      <td>white</td>\n",
              "      <td>male</td>\n",
              "      <td>200</td>\n",
              "      <td>vehicular</td>\n",
              "      <td>False</td>\n",
              "      <td>True</td>\n",
              "      <td>...</td>\n",
              "      <td>Speeding</td>\n",
              "      <td>NaN</td>\n",
              "      <td>NaN</td>\n",
              "      <td>SP</td>\n",
              "      <td>W</td>\n",
              "      <td>M</td>\n",
              "      <td>M</td>\n",
              "      <td>NaN</td>\n",
              "      <td>NaN</td>\n",
              "      <td>NaN</td>\n",
              "    </tr>\n",
              "    <tr>\n",
              "      <th>1</th>\n",
              "      <td>2</td>\n",
              "      <td>2005-10-01</td>\n",
              "      <td>12:20:00</td>\n",
              "      <td>X3</td>\n",
              "      <td>white</td>\n",
              "      <td>male</td>\n",
              "      <td>200</td>\n",
              "      <td>vehicular</td>\n",
              "      <td>False</td>\n",
              "      <td>True</td>\n",
              "      <td>...</td>\n",
              "      <td>Speeding</td>\n",
              "      <td>NaN</td>\n",
              "      <td>NaN</td>\n",
              "      <td>SP</td>\n",
              "      <td>W</td>\n",
              "      <td>M</td>\n",
              "      <td>M</td>\n",
              "      <td>NaN</td>\n",
              "      <td>NaN</td>\n",
              "      <td>NaN</td>\n",
              "    </tr>\n",
              "    <tr>\n",
              "      <th>2</th>\n",
              "      <td>3</td>\n",
              "      <td>2005-10-01</td>\n",
              "      <td>12:30:00</td>\n",
              "      <td>X3</td>\n",
              "      <td>white</td>\n",
              "      <td>female</td>\n",
              "      <td>200</td>\n",
              "      <td>vehicular</td>\n",
              "      <td>False</td>\n",
              "      <td>True</td>\n",
              "      <td>...</td>\n",
              "      <td>Speeding</td>\n",
              "      <td>NaN</td>\n",
              "      <td>NaN</td>\n",
              "      <td>SP</td>\n",
              "      <td>W</td>\n",
              "      <td>F</td>\n",
              "      <td>M</td>\n",
              "      <td>NaN</td>\n",
              "      <td>NaN</td>\n",
              "      <td>NaN</td>\n",
              "    </tr>\n",
              "  </tbody>\n",
              "</table>\n",
              "<p>3 rows × 31 columns</p>\n",
              "</div>\n",
              "      <button class=\"colab-df-convert\" onclick=\"convertToInteractive('df-e877e08c-69c6-48c0-819a-e04e23d81a25')\"\n",
              "              title=\"Convert this dataframe to an interactive table.\"\n",
              "              style=\"display:none;\">\n",
              "        \n",
              "  <svg xmlns=\"http://www.w3.org/2000/svg\" height=\"24px\"viewBox=\"0 0 24 24\"\n",
              "       width=\"24px\">\n",
              "    <path d=\"M0 0h24v24H0V0z\" fill=\"none\"/>\n",
              "    <path d=\"M18.56 5.44l.94 2.06.94-2.06 2.06-.94-2.06-.94-.94-2.06-.94 2.06-2.06.94zm-11 1L8.5 8.5l.94-2.06 2.06-.94-2.06-.94L8.5 2.5l-.94 2.06-2.06.94zm10 10l.94 2.06.94-2.06 2.06-.94-2.06-.94-.94-2.06-.94 2.06-2.06.94z\"/><path d=\"M17.41 7.96l-1.37-1.37c-.4-.4-.92-.59-1.43-.59-.52 0-1.04.2-1.43.59L10.3 9.45l-7.72 7.72c-.78.78-.78 2.05 0 2.83L4 21.41c.39.39.9.59 1.41.59.51 0 1.02-.2 1.41-.59l7.78-7.78 2.81-2.81c.8-.78.8-2.07 0-2.86zM5.41 20L4 18.59l7.72-7.72 1.47 1.35L5.41 20z\"/>\n",
              "  </svg>\n",
              "      </button>\n",
              "      \n",
              "  <style>\n",
              "    .colab-df-container {\n",
              "      display:flex;\n",
              "      flex-wrap:wrap;\n",
              "      gap: 12px;\n",
              "    }\n",
              "\n",
              "    .colab-df-convert {\n",
              "      background-color: #E8F0FE;\n",
              "      border: none;\n",
              "      border-radius: 50%;\n",
              "      cursor: pointer;\n",
              "      display: none;\n",
              "      fill: #1967D2;\n",
              "      height: 32px;\n",
              "      padding: 0 0 0 0;\n",
              "      width: 32px;\n",
              "    }\n",
              "\n",
              "    .colab-df-convert:hover {\n",
              "      background-color: #E2EBFA;\n",
              "      box-shadow: 0px 1px 2px rgba(60, 64, 67, 0.3), 0px 1px 3px 1px rgba(60, 64, 67, 0.15);\n",
              "      fill: #174EA6;\n",
              "    }\n",
              "\n",
              "    [theme=dark] .colab-df-convert {\n",
              "      background-color: #3B4455;\n",
              "      fill: #D2E3FC;\n",
              "    }\n",
              "\n",
              "    [theme=dark] .colab-df-convert:hover {\n",
              "      background-color: #434B5C;\n",
              "      box-shadow: 0px 1px 3px 1px rgba(0, 0, 0, 0.15);\n",
              "      filter: drop-shadow(0px 1px 2px rgba(0, 0, 0, 0.3));\n",
              "      fill: #FFFFFF;\n",
              "    }\n",
              "  </style>\n",
              "\n",
              "      <script>\n",
              "        const buttonEl =\n",
              "          document.querySelector('#df-e877e08c-69c6-48c0-819a-e04e23d81a25 button.colab-df-convert');\n",
              "        buttonEl.style.display =\n",
              "          google.colab.kernel.accessAllowed ? 'block' : 'none';\n",
              "\n",
              "        async function convertToInteractive(key) {\n",
              "          const element = document.querySelector('#df-e877e08c-69c6-48c0-819a-e04e23d81a25');\n",
              "          const dataTable =\n",
              "            await google.colab.kernel.invokeFunction('convertToInteractive',\n",
              "                                                     [key], {});\n",
              "          if (!dataTable) return;\n",
              "\n",
              "          const docLinkHtml = 'Like what you see? Visit the ' +\n",
              "            '<a target=\"_blank\" href=https://colab.research.google.com/notebooks/data_table.ipynb>data table notebook</a>'\n",
              "            + ' to learn more about interactive tables.';\n",
              "          element.innerHTML = '';\n",
              "          dataTable['output_type'] = 'display_data';\n",
              "          await google.colab.output.renderOutput(dataTable, element);\n",
              "          const docLink = document.createElement('div');\n",
              "          docLink.innerHTML = docLinkHtml;\n",
              "          element.appendChild(docLink);\n",
              "        }\n",
              "      </script>\n",
              "    </div>\n",
              "  </div>\n",
              "  "
            ]
          },
          "metadata": {},
          "execution_count": 1
        }
      ],
      "source": [
        "#1 Loading the data\n",
        "\n",
        "import pandas as pd\n",
        "ri = pd.read_csv(\"https://github.com/ju-mk/police_ri/releases/download/csv/ri_statewide_2020_04_01.csv\") #the csv file was bigger than 25mb, so had to create a release on github\n",
        "\n",
        "#2 Examining the data\n",
        "ri.head(3)"
      ]
    },
    {
      "cell_type": "code",
      "source": [
        "weather=pd.read_csv(\"https://assets.datacamp.com/production/repositories/1497/datasets/02f3fb2d4416d3f6626e1117688e0386784e8e55/weather.csv\")\n",
        "ri2=pd.read_csv(\"https://assets.datacamp.com/production/repositories/1497/datasets/62bd9feef451860db02d26553613a299721882e8/police.csv\")\n",
        "\n",
        "ri2.head()"
      ],
      "metadata": {
        "colab": {
          "base_uri": "https://localhost:8080/",
          "height": 288
        },
        "id": "PB1tuRK8WueG",
        "outputId": "392c531f-31f1-40ea-846e-33305b971c5c"
      },
      "execution_count": 2,
      "outputs": [
        {
          "output_type": "execute_result",
          "data": {
            "text/plain": [
              "  state   stop_date stop_time  county_name driver_gender driver_race  \\\n",
              "0    RI  2005-01-04     12:55          NaN             M       White   \n",
              "1    RI  2005-01-23     23:15          NaN             M       White   \n",
              "2    RI  2005-02-17     04:15          NaN             M       White   \n",
              "3    RI  2005-02-20     17:15          NaN             M       White   \n",
              "4    RI  2005-02-24     01:20          NaN             F       White   \n",
              "\n",
              "                    violation_raw  violation  search_conducted search_type  \\\n",
              "0  Equipment/Inspection Violation  Equipment             False         NaN   \n",
              "1                        Speeding   Speeding             False         NaN   \n",
              "2                        Speeding   Speeding             False         NaN   \n",
              "3                Call for Service      Other             False         NaN   \n",
              "4                        Speeding   Speeding             False         NaN   \n",
              "\n",
              "    stop_outcome is_arrested stop_duration  drugs_related_stop district  \n",
              "0       Citation       False      0-15 Min               False  Zone X4  \n",
              "1       Citation       False      0-15 Min               False  Zone K3  \n",
              "2       Citation       False      0-15 Min               False  Zone X4  \n",
              "3  Arrest Driver        True     16-30 Min               False  Zone X1  \n",
              "4       Citation       False      0-15 Min               False  Zone X3  "
            ],
            "text/html": [
              "\n",
              "  <div id=\"df-eba7926f-64a1-4796-8122-f95ef69c63a5\">\n",
              "    <div class=\"colab-df-container\">\n",
              "      <div>\n",
              "<style scoped>\n",
              "    .dataframe tbody tr th:only-of-type {\n",
              "        vertical-align: middle;\n",
              "    }\n",
              "\n",
              "    .dataframe tbody tr th {\n",
              "        vertical-align: top;\n",
              "    }\n",
              "\n",
              "    .dataframe thead th {\n",
              "        text-align: right;\n",
              "    }\n",
              "</style>\n",
              "<table border=\"1\" class=\"dataframe\">\n",
              "  <thead>\n",
              "    <tr style=\"text-align: right;\">\n",
              "      <th></th>\n",
              "      <th>state</th>\n",
              "      <th>stop_date</th>\n",
              "      <th>stop_time</th>\n",
              "      <th>county_name</th>\n",
              "      <th>driver_gender</th>\n",
              "      <th>driver_race</th>\n",
              "      <th>violation_raw</th>\n",
              "      <th>violation</th>\n",
              "      <th>search_conducted</th>\n",
              "      <th>search_type</th>\n",
              "      <th>stop_outcome</th>\n",
              "      <th>is_arrested</th>\n",
              "      <th>stop_duration</th>\n",
              "      <th>drugs_related_stop</th>\n",
              "      <th>district</th>\n",
              "    </tr>\n",
              "  </thead>\n",
              "  <tbody>\n",
              "    <tr>\n",
              "      <th>0</th>\n",
              "      <td>RI</td>\n",
              "      <td>2005-01-04</td>\n",
              "      <td>12:55</td>\n",
              "      <td>NaN</td>\n",
              "      <td>M</td>\n",
              "      <td>White</td>\n",
              "      <td>Equipment/Inspection Violation</td>\n",
              "      <td>Equipment</td>\n",
              "      <td>False</td>\n",
              "      <td>NaN</td>\n",
              "      <td>Citation</td>\n",
              "      <td>False</td>\n",
              "      <td>0-15 Min</td>\n",
              "      <td>False</td>\n",
              "      <td>Zone X4</td>\n",
              "    </tr>\n",
              "    <tr>\n",
              "      <th>1</th>\n",
              "      <td>RI</td>\n",
              "      <td>2005-01-23</td>\n",
              "      <td>23:15</td>\n",
              "      <td>NaN</td>\n",
              "      <td>M</td>\n",
              "      <td>White</td>\n",
              "      <td>Speeding</td>\n",
              "      <td>Speeding</td>\n",
              "      <td>False</td>\n",
              "      <td>NaN</td>\n",
              "      <td>Citation</td>\n",
              "      <td>False</td>\n",
              "      <td>0-15 Min</td>\n",
              "      <td>False</td>\n",
              "      <td>Zone K3</td>\n",
              "    </tr>\n",
              "    <tr>\n",
              "      <th>2</th>\n",
              "      <td>RI</td>\n",
              "      <td>2005-02-17</td>\n",
              "      <td>04:15</td>\n",
              "      <td>NaN</td>\n",
              "      <td>M</td>\n",
              "      <td>White</td>\n",
              "      <td>Speeding</td>\n",
              "      <td>Speeding</td>\n",
              "      <td>False</td>\n",
              "      <td>NaN</td>\n",
              "      <td>Citation</td>\n",
              "      <td>False</td>\n",
              "      <td>0-15 Min</td>\n",
              "      <td>False</td>\n",
              "      <td>Zone X4</td>\n",
              "    </tr>\n",
              "    <tr>\n",
              "      <th>3</th>\n",
              "      <td>RI</td>\n",
              "      <td>2005-02-20</td>\n",
              "      <td>17:15</td>\n",
              "      <td>NaN</td>\n",
              "      <td>M</td>\n",
              "      <td>White</td>\n",
              "      <td>Call for Service</td>\n",
              "      <td>Other</td>\n",
              "      <td>False</td>\n",
              "      <td>NaN</td>\n",
              "      <td>Arrest Driver</td>\n",
              "      <td>True</td>\n",
              "      <td>16-30 Min</td>\n",
              "      <td>False</td>\n",
              "      <td>Zone X1</td>\n",
              "    </tr>\n",
              "    <tr>\n",
              "      <th>4</th>\n",
              "      <td>RI</td>\n",
              "      <td>2005-02-24</td>\n",
              "      <td>01:20</td>\n",
              "      <td>NaN</td>\n",
              "      <td>F</td>\n",
              "      <td>White</td>\n",
              "      <td>Speeding</td>\n",
              "      <td>Speeding</td>\n",
              "      <td>False</td>\n",
              "      <td>NaN</td>\n",
              "      <td>Citation</td>\n",
              "      <td>False</td>\n",
              "      <td>0-15 Min</td>\n",
              "      <td>False</td>\n",
              "      <td>Zone X3</td>\n",
              "    </tr>\n",
              "  </tbody>\n",
              "</table>\n",
              "</div>\n",
              "      <button class=\"colab-df-convert\" onclick=\"convertToInteractive('df-eba7926f-64a1-4796-8122-f95ef69c63a5')\"\n",
              "              title=\"Convert this dataframe to an interactive table.\"\n",
              "              style=\"display:none;\">\n",
              "        \n",
              "  <svg xmlns=\"http://www.w3.org/2000/svg\" height=\"24px\"viewBox=\"0 0 24 24\"\n",
              "       width=\"24px\">\n",
              "    <path d=\"M0 0h24v24H0V0z\" fill=\"none\"/>\n",
              "    <path d=\"M18.56 5.44l.94 2.06.94-2.06 2.06-.94-2.06-.94-.94-2.06-.94 2.06-2.06.94zm-11 1L8.5 8.5l.94-2.06 2.06-.94-2.06-.94L8.5 2.5l-.94 2.06-2.06.94zm10 10l.94 2.06.94-2.06 2.06-.94-2.06-.94-.94-2.06-.94 2.06-2.06.94z\"/><path d=\"M17.41 7.96l-1.37-1.37c-.4-.4-.92-.59-1.43-.59-.52 0-1.04.2-1.43.59L10.3 9.45l-7.72 7.72c-.78.78-.78 2.05 0 2.83L4 21.41c.39.39.9.59 1.41.59.51 0 1.02-.2 1.41-.59l7.78-7.78 2.81-2.81c.8-.78.8-2.07 0-2.86zM5.41 20L4 18.59l7.72-7.72 1.47 1.35L5.41 20z\"/>\n",
              "  </svg>\n",
              "      </button>\n",
              "      \n",
              "  <style>\n",
              "    .colab-df-container {\n",
              "      display:flex;\n",
              "      flex-wrap:wrap;\n",
              "      gap: 12px;\n",
              "    }\n",
              "\n",
              "    .colab-df-convert {\n",
              "      background-color: #E8F0FE;\n",
              "      border: none;\n",
              "      border-radius: 50%;\n",
              "      cursor: pointer;\n",
              "      display: none;\n",
              "      fill: #1967D2;\n",
              "      height: 32px;\n",
              "      padding: 0 0 0 0;\n",
              "      width: 32px;\n",
              "    }\n",
              "\n",
              "    .colab-df-convert:hover {\n",
              "      background-color: #E2EBFA;\n",
              "      box-shadow: 0px 1px 2px rgba(60, 64, 67, 0.3), 0px 1px 3px 1px rgba(60, 64, 67, 0.15);\n",
              "      fill: #174EA6;\n",
              "    }\n",
              "\n",
              "    [theme=dark] .colab-df-convert {\n",
              "      background-color: #3B4455;\n",
              "      fill: #D2E3FC;\n",
              "    }\n",
              "\n",
              "    [theme=dark] .colab-df-convert:hover {\n",
              "      background-color: #434B5C;\n",
              "      box-shadow: 0px 1px 3px 1px rgba(0, 0, 0, 0.15);\n",
              "      filter: drop-shadow(0px 1px 2px rgba(0, 0, 0, 0.3));\n",
              "      fill: #FFFFFF;\n",
              "    }\n",
              "  </style>\n",
              "\n",
              "      <script>\n",
              "        const buttonEl =\n",
              "          document.querySelector('#df-eba7926f-64a1-4796-8122-f95ef69c63a5 button.colab-df-convert');\n",
              "        buttonEl.style.display =\n",
              "          google.colab.kernel.accessAllowed ? 'block' : 'none';\n",
              "\n",
              "        async function convertToInteractive(key) {\n",
              "          const element = document.querySelector('#df-eba7926f-64a1-4796-8122-f95ef69c63a5');\n",
              "          const dataTable =\n",
              "            await google.colab.kernel.invokeFunction('convertToInteractive',\n",
              "                                                     [key], {});\n",
              "          if (!dataTable) return;\n",
              "\n",
              "          const docLinkHtml = 'Like what you see? Visit the ' +\n",
              "            '<a target=\"_blank\" href=https://colab.research.google.com/notebooks/data_table.ipynb>data table notebook</a>'\n",
              "            + ' to learn more about interactive tables.';\n",
              "          element.innerHTML = '';\n",
              "          dataTable['output_type'] = 'display_data';\n",
              "          await google.colab.output.renderOutput(dataTable, element);\n",
              "          const docLink = document.createElement('div');\n",
              "          docLink.innerHTML = docLinkHtml;\n",
              "          element.appendChild(docLink);\n",
              "        }\n",
              "      </script>\n",
              "    </div>\n",
              "  </div>\n",
              "  "
            ]
          },
          "metadata": {},
          "execution_count": 2
        }
      ]
    },
    {
      "cell_type": "code",
      "source": [
        "#3 Locating missing values\n",
        "ri2.isnull().head(3) #get the dt with True and False for each individual value\n",
        "print(ri2.isnull().sum()) #get the amount of missing values #compare it to ri.shape to see if all col values are null\n",
        "print(ri2.shape)"
      ],
      "metadata": {
        "id": "Bdrwc9sCmpQU",
        "outputId": "33c76947-46a0-4500-9779-d615e7a70428",
        "colab": {
          "base_uri": "https://localhost:8080/"
        }
      },
      "execution_count": 3,
      "outputs": [
        {
          "output_type": "stream",
          "name": "stdout",
          "text": [
            "state                     0\n",
            "stop_date                 0\n",
            "stop_time                 0\n",
            "county_name           91741\n",
            "driver_gender          5205\n",
            "driver_race            5202\n",
            "violation_raw          5202\n",
            "violation              5202\n",
            "search_conducted          0\n",
            "search_type           88434\n",
            "stop_outcome           5202\n",
            "is_arrested            5202\n",
            "stop_duration          5202\n",
            "drugs_related_stop        0\n",
            "district                  0\n",
            "dtype: int64\n",
            "(91741, 15)\n"
          ]
        }
      ]
    },
    {
      "cell_type": "code",
      "source": [
        "#4 Dropping a col (useful if a whole col is null)\n",
        "ri2.drop('county_name', axis = 'columns', inplace = True)\n",
        "#to do that to more than one col, use brackets eg (['county_name, 'violation'], axis = 'columns', inplace=True)\n",
        "ri2.shape"
      ],
      "metadata": {
        "id": "JAvKe94Bm3E-",
        "outputId": "ef9fda90-9bb0-4cfe-9fdc-b82b68251f24",
        "colab": {
          "base_uri": "https://localhost:8080/"
        }
      },
      "execution_count": 4,
      "outputs": [
        {
          "output_type": "execute_result",
          "data": {
            "text/plain": [
              "(91741, 14)"
            ]
          },
          "metadata": {},
          "execution_count": 4
        }
      ]
    },
    {
      "cell_type": "code",
      "source": [
        "#5 Dropping rows (useful if a row has null values for the col you're analysing)\n",
        "#ri2.dropna(subset=['date', 'outcome'], inplace = True)\n",
        "#ri2.shape"
      ],
      "metadata": {
        "id": "y5y6GHkknUVT"
      },
      "execution_count": 5,
      "outputs": []
    },
    {
      "cell_type": "markdown",
      "source": [
        "Using data types"
      ],
      "metadata": {
        "id": "b9YZzsmutjyu"
      }
    },
    {
      "cell_type": "code",
      "source": [
        "#6 Examining the data types\n",
        "ri2.dtypes\n",
        "\n",
        "\n",
        "#Object or ‘0’ : python strings (or other Python objects)\n",
        "#bool: True and False values – enables logical and mathematical operations\n",
        "#int, float – enables mathematical operations\n",
        "#datetime – enables date-based attributes and methods\n",
        "#category – uses less memory and runs faster\n"
      ],
      "metadata": {
        "id": "OZ3kDIRqpAaf",
        "outputId": "51cc56a5-44bb-4a35-98ca-2c5508099067",
        "colab": {
          "base_uri": "https://localhost:8080/"
        }
      },
      "execution_count": 6,
      "outputs": [
        {
          "output_type": "execute_result",
          "data": {
            "text/plain": [
              "state                 object\n",
              "stop_date             object\n",
              "stop_time             object\n",
              "driver_gender         object\n",
              "driver_race           object\n",
              "violation_raw         object\n",
              "violation             object\n",
              "search_conducted        bool\n",
              "search_type           object\n",
              "stop_outcome          object\n",
              "is_arrested           object\n",
              "stop_duration         object\n",
              "drugs_related_stop      bool\n",
              "district              object\n",
              "dtype: object"
            ]
          },
          "metadata": {},
          "execution_count": 6
        }
      ]
    },
    {
      "cell_type": "code",
      "source": [
        "#7 Fixing a data type\n",
        "\n",
        "#Check the type first\n",
        "ri2.driver_gender.dtype\n",
        "#OR\n",
        "ri2['driver_gender'].dtype\n",
        "\n",
        "\n",
        "#Then change it using .astype()\n",
        "ri2['driver_gender'] = ri2.driver_gender.astype('category') #before the equals sign, you cannot use the dot notation (apple.price), only the bracket notation (apple[‘price’])\n",
        "\n",
        "ri2.driver_gender.dtype"
      ],
      "metadata": {
        "id": "ESojdTsfpQN5",
        "outputId": "afc3c718-a26f-431e-b581-c8114097233e",
        "colab": {
          "base_uri": "https://localhost:8080/"
        }
      },
      "execution_count": 7,
      "outputs": [
        {
          "output_type": "execute_result",
          "data": {
            "text/plain": [
              "CategoricalDtype(categories=['F', 'M'], ordered=False)"
            ]
          },
          "metadata": {},
          "execution_count": 7
        }
      ]
    },
    {
      "cell_type": "markdown",
      "source": [
        "Creating a datetimeIndex"
      ],
      "metadata": {
        "id": "Tet4g8-1tdz0"
      }
    },
    {
      "cell_type": "code",
      "source": [
        "#8 Combining object columns (cols date and time are stored in separate cols)\n",
        "\n",
        "#Change the data to how it should look like\n",
        "#string methods are available through the str acessor\n",
        "#e.g. apple has date column in format 2/13/18, but we need to change it to 2-13-18 using apple.date.str.replace('/', '-')\n",
        "\n",
        "#now, combine the cols using str.cat() (concatenate method)\n",
        "combined = ri2.stop_date.str.cat(ri2.stop_time, sep =' ')\n",
        "\n",
        "combined.head() #dtype is still object\n"
      ],
      "metadata": {
        "id": "RPokWeziqsLJ",
        "outputId": "82cce0e6-a5f1-4165-d6c6-f4b79f86fd39",
        "colab": {
          "base_uri": "https://localhost:8080/"
        }
      },
      "execution_count": 8,
      "outputs": [
        {
          "output_type": "execute_result",
          "data": {
            "text/plain": [
              "0    2005-01-04 12:55\n",
              "1    2005-01-23 23:15\n",
              "2    2005-02-17 04:15\n",
              "3    2005-02-20 17:15\n",
              "4    2005-02-24 01:20\n",
              "Name: stop_date, dtype: object"
            ]
          },
          "metadata": {},
          "execution_count": 8
        }
      ]
    },
    {
      "cell_type": "code",
      "source": [
        "#9 Converting to a datetime format = using the .to_datetime() function and saving it into a new col\n",
        "ri2['date_time'] = pd.to_datetime(combined) #you don't even need to specify that the original data was in m-d-y format, pandas just figures it out.\n",
        "ri2.date_time.head()"
      ],
      "metadata": {
        "id": "mxZRGKe3ueY7",
        "outputId": "4ffa1418-a9ce-4a58-cb42-f895764815b5",
        "colab": {
          "base_uri": "https://localhost:8080/"
        }
      },
      "execution_count": 9,
      "outputs": [
        {
          "output_type": "execute_result",
          "data": {
            "text/plain": [
              "0   2005-01-04 12:55:00\n",
              "1   2005-01-23 23:15:00\n",
              "2   2005-02-17 04:15:00\n",
              "3   2005-02-20 17:15:00\n",
              "4   2005-02-24 01:20:00\n",
              "Name: date_time, dtype: datetime64[ns]"
            ]
          },
          "metadata": {},
          "execution_count": 9
        }
      ]
    },
    {
      "cell_type": "code",
      "source": [
        "#10 Setting it as the index using the set_index() method (it makes it easier to filter the df by date, plot the data by date, etc)\n",
        "ri2.set_index('date_time', inplace=True) #>>>the operation should occur in place to avoid an assignment statement\n"
      ],
      "metadata": {
        "id": "fn8UdvOfvHm-"
      },
      "execution_count": 10,
      "outputs": []
    },
    {
      "cell_type": "code",
      "source": [
        "#Now, the default index has been replaced with the datetime column\n",
        "#Now, if you call for ri2.index it shows DateTimeIndex([…]) * If an existing column becomes the index, it is no longer considered to be one of the dataframe columns\n",
        "ri2.index\n"
      ],
      "metadata": {
        "id": "_DotEVwIvtpP",
        "outputId": "cdcd580e-d78f-4126-cc4c-24070edd2c57",
        "colab": {
          "base_uri": "https://localhost:8080/"
        }
      },
      "execution_count": 11,
      "outputs": [
        {
          "output_type": "execute_result",
          "data": {
            "text/plain": [
              "DatetimeIndex(['2005-01-04 12:55:00', '2005-01-23 23:15:00',\n",
              "               '2005-02-17 04:15:00', '2005-02-20 17:15:00',\n",
              "               '2005-02-24 01:20:00', '2005-03-14 10:00:00',\n",
              "               '2005-03-29 21:55:00', '2005-04-04 21:25:00',\n",
              "               '2005-07-14 11:20:00', '2005-07-14 19:55:00',\n",
              "               ...\n",
              "               '2015-12-31 13:23:00', '2015-12-31 18:59:00',\n",
              "               '2015-12-31 19:13:00', '2015-12-31 20:20:00',\n",
              "               '2015-12-31 20:50:00', '2015-12-31 21:21:00',\n",
              "               '2015-12-31 21:59:00', '2015-12-31 22:04:00',\n",
              "               '2015-12-31 22:09:00', '2015-12-31 22:47:00'],\n",
              "              dtype='datetime64[ns]', name='date_time', length=91741, freq=None)"
            ]
          },
          "metadata": {},
          "execution_count": 11
        }
      ]
    },
    {
      "cell_type": "markdown",
      "source": [
        "EXPLORING THE RELATIONSHIP BETWEEN GENDER AND POLICING\n",
        "  \n",
        "Do the genders commit different violations?"
      ],
      "metadata": {
        "id": "0keIPTprwHR-"
      }
    },
    {
      "cell_type": "code",
      "source": [
        "#value_counts() counts the unique values in a series; best suited for categorical data rather than numerical\n",
        "ri2.stop_outcome.value_counts()\n"
      ],
      "metadata": {
        "id": "IFDEkrHewTYz",
        "outputId": "38e7e641-1626-48eb-ff4d-c05467c3407d",
        "colab": {
          "base_uri": "https://localhost:8080/"
        }
      },
      "execution_count": 12,
      "outputs": [
        {
          "output_type": "execute_result",
          "data": {
            "text/plain": [
              "Citation            77092\n",
              "Warning              5137\n",
              "Arrest Driver        2735\n",
              "No Action             625\n",
              "N/D                   607\n",
              "Arrest Passenger      343\n",
              "Name: stop_outcome, dtype: int64"
            ]
          },
          "metadata": {},
          "execution_count": 12
        }
      ]
    },
    {
      "cell_type": "code",
      "source": [
        "print(ri2.stop_outcome.value_counts().sum()) \n",
        "#it will get the sum of this series, should be actually equal to the number of rows sseen by ri.shape, if there are no missing values\n",
        "print(ri2.shape)"
      ],
      "metadata": {
        "id": "VPORRHU-wqea",
        "colab": {
          "base_uri": "https://localhost:8080/"
        },
        "outputId": "47890e78-43ce-4267-9b9d-3ec1754d84f3"
      },
      "execution_count": 13,
      "outputs": [
        {
          "output_type": "stream",
          "name": "stdout",
          "text": [
            "86539\n",
            "(91741, 14)\n"
          ]
        }
      ]
    },
    {
      "cell_type": "code",
      "source": [
        "ri2.stop_outcome.value_counts(normalize=True)\n",
        "#it will output the proportions instead of counts"
      ],
      "metadata": {
        "colab": {
          "base_uri": "https://localhost:8080/"
        },
        "id": "44_3p44YXymK",
        "outputId": "c46f0355-146d-482a-ec3b-5e108e15e2fb"
      },
      "execution_count": 16,
      "outputs": [
        {
          "output_type": "execute_result",
          "data": {
            "text/plain": [
              "Citation            0.890835\n",
              "Warning             0.059361\n",
              "Arrest Driver       0.031604\n",
              "No Action           0.007222\n",
              "N/D                 0.007014\n",
              "Arrest Passenger    0.003964\n",
              "Name: stop_outcome, dtype: float64"
            ]
          },
          "metadata": {},
          "execution_count": 16
        }
      ]
    },
    {
      "cell_type": "markdown",
      "source": [
        "Does race play a factor into the number of arrests?"
      ],
      "metadata": {
        "id": "WMKwpxNLaH1s"
      }
    },
    {
      "cell_type": "code",
      "source": [
        "#to rename cols\n",
        "#ri2.rename(columns = {'subject_race':'driver_race'}, inplace = True)\n",
        "\n",
        "ri2.driver_race.value_counts()"
      ],
      "metadata": {
        "colab": {
          "base_uri": "https://localhost:8080/"
        },
        "id": "MHArxG-LX6Re",
        "outputId": "f965bc37-bac6-4dc2-b55a-fa1b8deccc84"
      },
      "execution_count": 17,
      "outputs": [
        {
          "output_type": "execute_result",
          "data": {
            "text/plain": [
              "White       61872\n",
              "Black       12285\n",
              "Hispanic     9727\n",
              "Asian        2390\n",
              "Other         265\n",
              "Name: driver_race, dtype: int64"
            ]
          },
          "metadata": {},
          "execution_count": 17
        }
      ]
    },
    {
      "cell_type": "code",
      "source": [
        "white = ri2[ri2.driver_race=='White'] #creating a new df just with a specific race\n",
        "white.shape #it shows only the amount of rows corresponding to white drivers"
      ],
      "metadata": {
        "colab": {
          "base_uri": "https://localhost:8080/"
        },
        "id": "MBFBliScZV9c",
        "outputId": "b900c71b-a9b9-44dd-e074-789a887ad6c9"
      },
      "execution_count": 18,
      "outputs": [
        {
          "output_type": "execute_result",
          "data": {
            "text/plain": [
              "(61872, 14)"
            ]
          },
          "metadata": {},
          "execution_count": 18
        }
      ]
    },
    {
      "cell_type": "code",
      "source": [
        "white.stop_outcome.value_counts(normalize=True)"
      ],
      "metadata": {
        "colab": {
          "base_uri": "https://localhost:8080/"
        },
        "id": "GbHw8vQZZjwW",
        "outputId": "c6332204-8dd7-4533-d4ec-6a8b229e0639"
      },
      "execution_count": 20,
      "outputs": [
        {
          "output_type": "execute_result",
          "data": {
            "text/plain": [
              "Citation            0.902234\n",
              "Warning             0.057522\n",
              "Arrest Driver       0.024017\n",
              "No Action           0.007047\n",
              "N/D                 0.006433\n",
              "Arrest Passenger    0.002748\n",
              "Name: stop_outcome, dtype: float64"
            ]
          },
          "metadata": {},
          "execution_count": 20
        }
      ]
    },
    {
      "cell_type": "code",
      "source": [
        "black = ri2[ri2.driver_race=='Black']\n",
        "black.stop_outcome.value_counts(normalize=True)"
      ],
      "metadata": {
        "colab": {
          "base_uri": "https://localhost:8080/"
        },
        "id": "zNJ2w1_QZtiT",
        "outputId": "b7278e5c-d494-4b52-81e5-7bbacc90c8ed"
      },
      "execution_count": 22,
      "outputs": [
        {
          "output_type": "execute_result",
          "data": {
            "text/plain": [
              "Citation            0.857224\n",
              "Warning             0.065120\n",
              "Arrest Driver       0.054294\n",
              "N/D                 0.008547\n",
              "Arrest Passenger    0.008303\n",
              "No Action           0.006512\n",
              "Name: stop_outcome, dtype: float64"
            ]
          },
          "metadata": {},
          "execution_count": 22
        }
      ]
    },
    {
      "cell_type": "markdown",
      "source": [
        "Does gender play a role into the number of arrests?"
      ],
      "metadata": {
        "id": "V311d3yHaMjI"
      }
    },
    {
      "cell_type": "code",
      "source": [
        "# Filtering a df by multiple conditions\n",
        "#e.g. female drivers and only thos who have been arrested\n",
        "# AND is &, OR is |\n",
        "#each condiiton is surrounded by parenthesis\n",
        "\n",
        "female_and_arrested = ri2[(ri2.driver_gender == 'F') & (ri2.is_arrested == True)]\n",
        "print(female_and_arrested.shape)\n",
        "\n"
      ],
      "metadata": {
        "colab": {
          "base_uri": "https://localhost:8080/"
        },
        "id": "BuwyDRzmaTIa",
        "outputId": "a46d83ed-3a3d-4c56-d10d-1ae3e049aeec"
      },
      "execution_count": 27,
      "outputs": [
        {
          "output_type": "stream",
          "name": "stdout",
          "text": [
            "(669, 14)\n"
          ]
        }
      ]
    },
    {
      "cell_type": "code",
      "source": [
        "female_or_arrested = ri2[(ri2.driver_gender == 'F') | (ri2.is_arrested == True)]\n",
        "\n",
        "print(female_or_arrested.shape) \n",
        "#this df is way larger than the previous one because it includes all females regardless of them being arrested, as well as drivers regardless of them being female."
      ],
      "metadata": {
        "colab": {
          "base_uri": "https://localhost:8080/"
        },
        "id": "nWMOdHQtbA4A",
        "outputId": "6a3961c8-f57b-4e91-e90b-9a613ea1fa7d"
      },
      "execution_count": 28,
      "outputs": [
        {
          "output_type": "stream",
          "name": "stdout",
          "text": [
            "(26183, 14)\n"
          ]
        }
      ]
    },
    {
      "cell_type": "markdown",
      "source": [
        "USEFUL PANDAS TECHNIQUES\n",
        "  \n",
        "Math with Boolean values(True = 1, False = 0)"
      ],
      "metadata": {
        "id": "aoWEzFe9cVoj"
      }
    },
    {
      "cell_type": "code",
      "source": [
        "import numpy as np #because you're working with lists\n",
        "\n",
        "# Mean of boolean series represents a percentage of True values\n",
        "np.mean([0,1,0,0])\n",
        "np.mean([False, True, False, False]) #the same as the one before"
      ],
      "metadata": {
        "colab": {
          "base_uri": "https://localhost:8080/"
        },
        "id": "9FQYX-GJbdrk",
        "outputId": "582d160e-05b5-4ed3-8e61-f16092cdf793"
      },
      "execution_count": 29,
      "outputs": [
        {
          "output_type": "execute_result",
          "data": {
            "text/plain": [
              "0.25"
            ]
          },
          "metadata": {},
          "execution_count": 29
        }
      ]
    },
    {
      "cell_type": "code",
      "source": [
        "ri2.is_arrested.value_counts(normalize=True) #calculating the percentage of stops that result in arrest"
      ],
      "metadata": {
        "colab": {
          "base_uri": "https://localhost:8080/"
        },
        "id": "xv23cNvKc5lb",
        "outputId": "03450e69-3e26-47b5-b4b3-81073774b7db"
      },
      "execution_count": 30,
      "outputs": [
        {
          "output_type": "execute_result",
          "data": {
            "text/plain": [
              "False    0.964432\n",
              "True     0.035568\n",
              "Name: is_arrested, dtype: float64"
            ]
          },
          "metadata": {},
          "execution_count": 30
        }
      ]
    },
    {
      "cell_type": "code",
      "source": [
        "ri2.is_arrested.mean() #calculates the percentage of True values\n",
        "#the same as before, but it only works because the data type is boolean, that's why checking the data type at the beginning is so important"
      ],
      "metadata": {
        "colab": {
          "base_uri": "https://localhost:8080/"
        },
        "id": "L0_w1XFmdA8q",
        "outputId": "c035157b-0760-47a1-9cfc-763ce42e8962"
      },
      "execution_count": 31,
      "outputs": [
        {
          "output_type": "execute_result",
          "data": {
            "text/plain": [
              "0.03556777868937704"
            ]
          },
          "metadata": {},
          "execution_count": 31
        }
      ]
    },
    {
      "cell_type": "code",
      "source": [
        "ri2.search_conducted.mean()"
      ],
      "metadata": {
        "colab": {
          "base_uri": "https://localhost:8080/"
        },
        "id": "I228me4jdMlq",
        "outputId": "8b643f86-2c32-406d-bce5-f7faf25b2dca"
      },
      "execution_count": 32,
      "outputs": [
        {
          "output_type": "execute_result",
          "data": {
            "text/plain": [
              "0.03604713268876511"
            ]
          },
          "metadata": {},
          "execution_count": 32
        }
      ]
    },
    {
      "cell_type": "code",
      "source": [
        "#calculating the search rate for female drivers\n",
        "ri2[ri2.driver_gender=='F'].search_conducted.mean()"
      ],
      "metadata": {
        "colab": {
          "base_uri": "https://localhost:8080/"
        },
        "id": "MrL5TuPke5hW",
        "outputId": "61cb35c3-1788-4e5d-a20a-d0e74f4dcc3a"
      },
      "execution_count": 33,
      "outputs": [
        {
          "output_type": "execute_result",
          "data": {
            "text/plain": [
              "0.019180617481282074"
            ]
          },
          "metadata": {},
          "execution_count": 33
        }
      ]
    },
    {
      "cell_type": "code",
      "source": [
        "#calculating the search rate for male drivers\n",
        "ri2[ri2.driver_gender=='M'].search_conducted.mean()"
      ],
      "metadata": {
        "colab": {
          "base_uri": "https://localhost:8080/"
        },
        "id": "7LisaNI8flH0",
        "outputId": "01bf6523-fdb1-4840-d539-860e99f0a34e"
      },
      "execution_count": 34,
      "outputs": [
        {
          "output_type": "execute_result",
          "data": {
            "text/plain": [
              "0.04542557598546892"
            ]
          },
          "metadata": {},
          "execution_count": 34
        }
      ]
    },
    {
      "cell_type": "code",
      "source": [
        "#The same results as before but given by only one command\n",
        "ri2.groupby('driver_gender').search_conducted.mean()"
      ],
      "metadata": {
        "colab": {
          "base_uri": "https://localhost:8080/"
        },
        "id": "J-deH8mlf6sU",
        "outputId": "f5ff26ac-7353-4732-ecf9-047269ff5f27"
      },
      "execution_count": 37,
      "outputs": [
        {
          "output_type": "execute_result",
          "data": {
            "text/plain": [
              "driver_gender\n",
              "F    0.019181\n",
              "M    0.045426\n",
              "Name: search_conducted, dtype: float64"
            ]
          },
          "metadata": {},
          "execution_count": 37
        }
      ]
    },
    {
      "cell_type": "code",
      "source": [
        "#different types of violation\n",
        "ri2.violation.head()"
      ],
      "metadata": {
        "id": "Oi66b9_wgI_A",
        "colab": {
          "base_uri": "https://localhost:8080/"
        },
        "outputId": "8e0d3ec7-e239-4013-c593-e55774b9a418"
      },
      "execution_count": 38,
      "outputs": [
        {
          "output_type": "execute_result",
          "data": {
            "text/plain": [
              "date_time\n",
              "2005-01-04 12:55:00    Equipment\n",
              "2005-01-23 23:15:00     Speeding\n",
              "2005-02-17 04:15:00     Speeding\n",
              "2005-02-20 17:15:00        Other\n",
              "2005-02-24 01:20:00     Speeding\n",
              "Name: violation, dtype: object"
            ]
          },
          "metadata": {},
          "execution_count": 38
        }
      ]
    },
    {
      "cell_type": "code",
      "source": [
        "#types of violation according to gender\n",
        "print(ri2.groupby(['driver_gender', 'violation']).search_conducted.mean())"
      ],
      "metadata": {
        "colab": {
          "base_uri": "https://localhost:8080/"
        },
        "id": "315SR4heKS1z",
        "outputId": "b8a5f861-7c89-4071-928a-0d1a91220caa"
      },
      "execution_count": 39,
      "outputs": [
        {
          "output_type": "stream",
          "name": "stdout",
          "text": [
            "driver_gender  violation          \n",
            "F              Equipment              0.039984\n",
            "               Moving violation       0.039257\n",
            "               Other                  0.041018\n",
            "               Registration/plates    0.054924\n",
            "               Seat belt              0.017301\n",
            "               Speeding               0.008309\n",
            "M              Equipment              0.071496\n",
            "               Moving violation       0.061524\n",
            "               Other                  0.046191\n",
            "               Registration/plates    0.108802\n",
            "               Seat belt              0.035119\n",
            "               Speeding               0.027885\n",
            "Name: search_conducted, dtype: float64\n"
          ]
        }
      ]
    },
    {
      "cell_type": "code",
      "source": [
        "#same as before, but in a nicer looking way\n",
        "ri2.groupby(['violation', 'driver_gender']).search_conducted.mean()"
      ],
      "metadata": {
        "colab": {
          "base_uri": "https://localhost:8080/"
        },
        "id": "d72LNOjyOjZj",
        "outputId": "650fd7c6-6677-47b6-974b-3ffc4953c8cb"
      },
      "execution_count": 41,
      "outputs": [
        {
          "output_type": "execute_result",
          "data": {
            "text/plain": [
              "violation            driver_gender\n",
              "Equipment            F                0.039984\n",
              "                     M                0.071496\n",
              "Moving violation     F                0.039257\n",
              "                     M                0.061524\n",
              "Other                F                0.041018\n",
              "                     M                0.046191\n",
              "Registration/plates  F                0.054924\n",
              "                     M                0.108802\n",
              "Seat belt            F                0.017301\n",
              "                     M                0.035119\n",
              "Speeding             F                0.008309\n",
              "                     M                0.027885\n",
              "Name: search_conducted, dtype: float64"
            ]
          },
          "metadata": {},
          "execution_count": 41
        }
      ]
    },
    {
      "cell_type": "markdown",
      "source": [
        "Does gender affect who is frisked during a search?\n",
        "  \n",
        "* The search_conducted field is True if there is a search during  a traffic stop, and False otherwise."
      ],
      "metadata": {
        "id": "ywZnUdQlOyHD"
      }
    },
    {
      "cell_type": "code",
      "source": [
        "ri2.search_type.value_counts(dropna=False)"
      ],
      "metadata": {
        "colab": {
          "base_uri": "https://localhost:8080/"
        },
        "id": "RTrWr5yBO2oW",
        "outputId": "c1995df1-3b5e-438e-aee0-bacfadce26af"
      },
      "execution_count": 42,
      "outputs": [
        {
          "output_type": "execute_result",
          "data": {
            "text/plain": [
              "NaN                                                         88434\n",
              "Incident to Arrest                                           1290\n",
              "Probable Cause                                                924\n",
              "Inventory                                                     219\n",
              "Reasonable Suspicion                                          214\n",
              "Protective Frisk                                              164\n",
              "Incident to Arrest,Inventory                                  123\n",
              "Incident to Arrest,Probable Cause                             100\n",
              "Probable Cause,Reasonable Suspicion                            54\n",
              "Incident to Arrest,Inventory,Probable Cause                    35\n",
              "Probable Cause,Protective Frisk                                35\n",
              "Incident to Arrest,Protective Frisk                            33\n",
              "Inventory,Probable Cause                                       25\n",
              "Protective Frisk,Reasonable Suspicion                          19\n",
              "Incident to Arrest,Inventory,Protective Frisk                  18\n",
              "Incident to Arrest,Probable Cause,Protective Frisk             13\n",
              "Inventory,Protective Frisk                                     12\n",
              "Incident to Arrest,Reasonable Suspicion                         8\n",
              "Probable Cause,Protective Frisk,Reasonable Suspicion            5\n",
              "Incident to Arrest,Probable Cause,Reasonable Suspicion          5\n",
              "Incident to Arrest,Inventory,Reasonable Suspicion               4\n",
              "Incident to Arrest,Protective Frisk,Reasonable Suspicion        2\n",
              "Inventory,Reasonable Suspicion                                  2\n",
              "Inventory,Protective Frisk,Reasonable Suspicion                 1\n",
              "Inventory,Probable Cause,Reasonable Suspicion                   1\n",
              "Inventory,Probable Cause,Protective Frisk                       1\n",
              "Name: search_type, dtype: int64"
            ]
          },
          "metadata": {},
          "execution_count": 42
        }
      ]
    },
    {
      "cell_type": "markdown",
      "source": [
        "Comparing frisk rates by gender"
      ],
      "metadata": {
        "id": "eqLKgF0aom03"
      }
    },
    {
      "cell_type": "code",
      "source": [
        "#Creating a df of stops in which a search was conducted\n",
        "searched = ri[ri.search_conducted == True]\n",
        "\n",
        "# Calculate the overall frisk rate by taking the mean of 'frisk'\n",
        "print(searched.frisk_performed.mean())\n",
        "\n",
        "# Calculate the frisk rate for each gender\n",
        "print(searched.groupby('subject_sex').frisk_performed.mean())"
      ],
      "metadata": {
        "id": "F6WddQFNPQip",
        "colab": {
          "base_uri": "https://localhost:8080/"
        },
        "outputId": "933b14a7-af59-4548-cbc6-fa6a58ebe5c5"
      },
      "execution_count": 50,
      "outputs": [
        {
          "output_type": "stream",
          "name": "stdout",
          "text": [
            "0.5248282851030289\n",
            "subject_sex\n",
            "female    0.437983\n",
            "male      0.538783\n",
            "Name: frisk_performed, dtype: float64\n"
          ]
        }
      ]
    },
    {
      "cell_type": "markdown",
      "source": [
        "Calculating and plotting the hourly arrest rate"
      ],
      "metadata": {
        "id": "TEFQbQ2DlaoZ"
      }
    },
    {
      "cell_type": "code",
      "source": [
        "ri2.columns\n",
        "ri2.dtypes\n",
        "\n",
        "#joining stop_date and stop_time to the same column\n",
        "ri2.stop_date.str.replace('/', '-') #not sure if this step is really necessary, probably not\n",
        "combined = ri2.stop_date.str.cat(ri2.stop_time, sep=' ')\n",
        "combined.head\n",
        "#changing the type from object to datetime\n",
        "ri2[\"date_and_time\"] = pd.to_datetime(combined)\n",
        "ri2.dtypes\n",
        "#setting date_and_time as the index\n",
        "ri2.set_index('date_and_time', inplace=True)\n",
        "ri2.index"
      ],
      "metadata": {
        "colab": {
          "base_uri": "https://localhost:8080/"
        },
        "id": "O5NtuP7ylssZ",
        "outputId": "4c3e5fbf-ec6b-4c7e-a12b-77424feb0878"
      },
      "execution_count": 60,
      "outputs": [
        {
          "output_type": "execute_result",
          "data": {
            "text/plain": [
              "DatetimeIndex(['2005-01-04 12:55:00', '2005-01-23 23:15:00',\n",
              "               '2005-02-17 04:15:00', '2005-02-20 17:15:00',\n",
              "               '2005-02-24 01:20:00', '2005-03-14 10:00:00',\n",
              "               '2005-03-29 21:55:00', '2005-04-04 21:25:00',\n",
              "               '2005-07-14 11:20:00', '2005-07-14 19:55:00',\n",
              "               ...\n",
              "               '2015-12-31 13:23:00', '2015-12-31 18:59:00',\n",
              "               '2015-12-31 19:13:00', '2015-12-31 20:20:00',\n",
              "               '2015-12-31 20:50:00', '2015-12-31 21:21:00',\n",
              "               '2015-12-31 21:59:00', '2015-12-31 22:04:00',\n",
              "               '2015-12-31 22:09:00', '2015-12-31 22:47:00'],\n",
              "              dtype='datetime64[ns]', name='date_and_time', length=91741, freq=None)"
            ]
          },
          "metadata": {},
          "execution_count": 60
        }
      ]
    },
    {
      "cell_type": "code",
      "source": [
        "# Calculate the overall arrest rate\n",
        "print(ri2.is_arrested.mean())\n",
        "\n",
        "# Calculate the hourly arrest rate\n",
        "print(ri2.groupby(ri2.index.hour).is_arrested.mean())\n",
        "\n",
        "# Save the hourly arrest rate\n",
        "hourly_arrest_rate = ri2.groupby(ri2.index.hour).is_arrested.mean()\n",
        "\n",
        "# Import matplotlib.pyplot as plt\n",
        "import matplotlib.pyplot as plt\n",
        "\n",
        "# Create a line plot of 'hourly_arrest_rate'\n",
        "hourly_arrest_rate.plot()\n",
        "\n",
        "# Add the xlabel, ylabel, and title\n",
        "plt.xlabel('Hour')\n",
        "plt.ylabel('Arrest Rate')\n",
        "plt.title('Arrest Rate by Time of Day')\n",
        "\n",
        "# Display the plot\n",
        "plt.show()\n",
        "\n",
        "#Peak at night, drop in early morning hours."
      ],
      "metadata": {
        "colab": {
          "base_uri": "https://localhost:8080/",
          "height": 777
        },
        "id": "mCfu_Hk5khaO",
        "outputId": "f2a205fd-0dc1-462f-ce2a-0762bd5a3191"
      },
      "execution_count": 63,
      "outputs": [
        {
          "output_type": "stream",
          "name": "stdout",
          "text": [
            "0.03556777868937704\n",
            "date_and_time\n",
            "0     0.051420\n",
            "1     0.064932\n",
            "2     0.060798\n",
            "3     0.060549\n",
            "4     0.048000\n",
            "5     0.042781\n",
            "6     0.013813\n",
            "7     0.013032\n",
            "8     0.021854\n",
            "9     0.025206\n",
            "10    0.028213\n",
            "11    0.028897\n",
            "12    0.037399\n",
            "13    0.030776\n",
            "14    0.030605\n",
            "15    0.030679\n",
            "16    0.035281\n",
            "17    0.040619\n",
            "18    0.038186\n",
            "19    0.032245\n",
            "20    0.038107\n",
            "21    0.064541\n",
            "22    0.048666\n",
            "23    0.047582\n",
            "Name: is_arrested, dtype: float64\n"
          ]
        },
        {
          "output_type": "display_data",
          "data": {
            "text/plain": [
              "<Figure size 432x288 with 1 Axes>"
            ],
            "image/png": "[encoded data removed]"
          },
          "metadata": {
            "needs_background": "light"
          }
        }
      ]
    },
    {
      "cell_type": "markdown",
      "source": [
        "Plotting drug related stops"
      ],
      "metadata": {
        "id": "A2-LDCq1oRoC"
      }
    },
    {
      "cell_type": "code",
      "source": [
        "# Calculate the annual rate of drug-related stops\n",
        "#print(ri2.drugs_related_stop.groupby(ri2.index.year).mean()) OR\n",
        "print(ri2.drugs_related_stop.resample('A').mean())\n",
        "\n",
        "# Save the annual rate of drug-related stops\n",
        "annual_drug_rate = ri2.drugs_related_stop.resample('A').mean()\n",
        "\n",
        "# Create a line plot of 'annual_drug_rate'\n",
        "annual_drug_rate.plot()\n",
        "\n",
        "# Display the plot\n",
        "plt.show()\n"
      ],
      "metadata": {
        "colab": {
          "base_uri": "https://localhost:8080/",
          "height": 512
        },
        "id": "rfR4omiRoWVE",
        "outputId": "d6a037ec-cff9-46a6-b500-872f4e950fcf"
      },
      "execution_count": 69,
      "outputs": [
        {
          "output_type": "stream",
          "name": "stdout",
          "text": [
            "date_and_time\n",
            "2005-12-31    0.006390\n",
            "2006-12-31    0.006913\n",
            "2007-12-31    0.007520\n",
            "2008-12-31    0.006998\n",
            "2009-12-31    0.009079\n",
            "2010-12-31    0.009407\n",
            "2011-12-31    0.009035\n",
            "2012-12-31    0.009388\n",
            "2013-12-31    0.012283\n",
            "2014-12-31    0.013280\n",
            "2015-12-31    0.011787\n",
            "Freq: A-DEC, Name: drugs_related_stop, dtype: float64\n"
          ]
        },
        {
          "output_type": "display_data",
          "data": {
            "text/plain": [
              "<Figure size 432x288 with 1 Axes>"
            ],
            "image/png": "[encoded data removed]"
          },
          "metadata": {
            "needs_background": "light"
          }
        }
      ]
    },
    {
      "cell_type": "markdown",
      "source": [
        "We've seen that the amount of drug-related stops have nearly doubled in the last few years.\n",
        "Is it because more searches have been done?"
      ],
      "metadata": {
        "id": "EDZgGQaY_zm4"
      }
    },
    {
      "cell_type": "code",
      "source": [
        "# Calculate and save the annual search rate\n",
        "annual_search_rate = ri2.search_conducted.resample('A').mean()\n",
        "\n",
        "# Concatenate 'annual_drug_rate' and 'annual_search_rate'\n",
        "annual = pd.concat([annual_drug_rate, annual_search_rate], axis='columns')\n",
        "\n",
        "# Create subplots from 'annual'\n",
        "annual.plot(subplots = True)\n",
        "\n",
        "# Display the subplots\n",
        "plt.show()"
      ],
      "metadata": {
        "colab": {
          "base_uri": "https://localhost:8080/",
          "height": 280
        },
        "id": "196DIAt39IlC",
        "outputId": "6a23b9f3-9864-44f0-c1a8-6ea8dd166b1f"
      },
      "execution_count": 71,
      "outputs": [
        {
          "output_type": "display_data",
          "data": {
            "text/plain": [
              "<Figure size 432x288 with 2 Axes>"
            ],
            "image/png": "[encoded data removed]"
          },
          "metadata": {
            "needs_background": "light"
          }
        }
      ]
    },
    {
      "cell_type": "markdown",
      "source": [
        "Now we can see that the rate of drug-related stops have actually increased even though the search rate decreased, disproving our hypothesis."
      ],
      "metadata": {
        "id": "RVXqM7GAApz5"
      }
    },
    {
      "cell_type": "markdown",
      "source": [
        "**Tallying and plotting violations per district**\n",
        "\n"
      ],
      "metadata": {
        "id": "lQAyRrPpBGSG"
      }
    },
    {
      "cell_type": "code",
      "source": [
        "# Create a frequency table of districts and violations\n",
        "print(pd.crosstab(ri2.district, ri2.violation))\n",
        "\n",
        "# Save the frequency table as 'all_zones'\n",
        "all_zones = pd.crosstab(ri2.district, ri2.violation)\n",
        "\n",
        "# Select rows 'Zone K1' through 'Zone K3'\n",
        "print(all_zones.loc['Zone K1':'Zone K3'])\n",
        "\n",
        "# Save the smaller table as 'k_zones'\n",
        "k_zones = all_zones.loc['Zone K1':'Zone K3']\n",
        "\n",
        "# Create a stacked bar plot of 'k_zones'\n",
        "k_zones.plot(kind='bar', stacked=True)\n",
        "\n",
        "# Display the plot\n",
        "plt.show()\n",
        "\n",
        "# Create a bar plot of 'k_zones'\n",
        "k_zones.plot(kind='bar')\n",
        "\n",
        "# Display the plot\n",
        "plt.show()"
      ],
      "metadata": {
        "colab": {
          "base_uri": "https://localhost:8080/",
          "height": 1000
        },
        "id": "j0TYVhbGBB-C",
        "outputId": "1b5441f7-26d0-4540-a7e1-8cb9dadb16c6"
      },
      "execution_count": 74,
      "outputs": [
        {
          "output_type": "stream",
          "name": "stdout",
          "text": [
            "violation  Equipment  Moving violation  Other  Registration/plates  Seat belt  \\\n",
            "district                                                                        \n",
            "Zone K1          673              1254    290                  120          0   \n",
            "Zone K2         2061              2962    942                  768        481   \n",
            "Zone K3         2302              2898    706                  695        638   \n",
            "Zone X1          296               671    143                   38         74   \n",
            "Zone X3         2049              3086    769                  671        820   \n",
            "Zone X4         3541              5353   1560                 1411        843   \n",
            "\n",
            "violation  Speeding  \n",
            "district             \n",
            "Zone K1        5960  \n",
            "Zone K2       10448  \n",
            "Zone K3       12323  \n",
            "Zone X1        1119  \n",
            "Zone X3        8779  \n",
            "Zone X4        9795  \n",
            "violation  Equipment  Moving violation  Other  Registration/plates  Seat belt  \\\n",
            "district                                                                        \n",
            "Zone K1          673              1254    290                  120          0   \n",
            "Zone K2         2061              2962    942                  768        481   \n",
            "Zone K3         2302              2898    706                  695        638   \n",
            "\n",
            "violation  Speeding  \n",
            "district             \n",
            "Zone K1        5960  \n",
            "Zone K2       10448  \n",
            "Zone K3       12323  \n"
          ]
        },
        {
          "output_type": "display_data",
          "data": {
            "text/plain": [
              "<Figure size 432x288 with 1 Axes>"
            ],
            "image/png": "[encoded data removed]"
          },
          "metadata": {
            "needs_background": "light"
          }
        },
        {
          "output_type": "display_data",
          "data": {
            "text/plain": [
              "<Figure size 432x288 with 1 Axes>"
            ],
            "image/png": "[encoded data removed]"
          },
          "metadata": {
            "needs_background": "light"
          }
        }
      ]
    },
    {
      "cell_type": "code",
      "source": [],
      "metadata": {
        "id": "ZedrnMWhRPm6"
      },
      "execution_count": null,
      "outputs": []
    }
  ]
}